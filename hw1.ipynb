{
 "cells": [
  {
   "cell_type": "code",
   "execution_count": null,
   "metadata": {},
   "outputs": [],
   "source": [
    "#這裏不要改\n",
    "import numpy as np\n",
    "import time\n",
    "np.random.seed(20210511)\n",
    "test_list = np.sort(np.random.randint(-10000,100000,50000))"
   ]
  },
  {
   "cell_type": "code",
   "execution_count": null,
   "metadata": {},
   "outputs": [],
   "source": [
    "#第一題：\n",
    "#請用for迴圈找到整數 13304 是否有在test_list，若是有,請告訴我是第幾個index\n",
    "\n",
    "target = 13304\n",
    "start = time.time()\n",
    "\n",
    "#將code寫在下面範圍內\n",
    "########################################\n",
    "\n",
    "\n",
    "\n",
    "########################################\n",
    "end = time.time()\n",
    "\n",
    "print(\"time spent of using for loop to find: {:05.2} s\".format(end-start) )"
   ]
  },
  {
   "cell_type": "code",
   "execution_count": null,
   "metadata": {},
   "outputs": [],
   "source": [
    "#第二題：\n",
    "#請用while迴圈找到整數 13304 是否有在test_list，若是有,請告訴我是第幾個index\n",
    "\n",
    "target = 13304\n",
    "start = time.time()\n",
    "\n",
    "#將code寫在下面範圍內\n",
    "########################################\n",
    "\n",
    "\n",
    "########################################\n",
    "end = time.time()\n",
    "\n",
    "print(\"time spent of using while loop to find: {:05.2} s\".format(end-start) )"
   ]
  },
  {
   "cell_type": "code",
   "execution_count": null,
   "metadata": {},
   "outputs": [],
   "source": [
    "#第三題：\n",
    "#請用binary search找到整數 13304 是否有在test_list，若是有,請告訴我是第幾個index\n",
    "\n",
    "target = 13304\n",
    "start = time.time()\n",
    "\n",
    "#將code寫在下面範圍內\n",
    "########################################\n",
    "\n",
    "\n",
    "########################################\n",
    "end = time.time()\n",
    "\n",
    "print(\"time spent of using binary search to find: {:05.2} s\".format(end-start) )"
   ]
  }
 ],
 "metadata": {
  "kernelspec": {
   "display_name": "Python 3",
   "language": "python",
   "name": "python3"
  },
  "language_info": {
   "codemirror_mode": {
    "name": "ipython",
    "version": 3
   },
   "file_extension": ".py",
   "mimetype": "text/x-python",
   "name": "python",
   "nbconvert_exporter": "python",
   "pygments_lexer": "ipython3",
   "version": "3.7.6"
  }
 },
 "nbformat": 4,
 "nbformat_minor": 4
}
