{
 "cells": [
  {
   "cell_type": "markdown",
   "metadata": {},
   "source": [
    "# key components\n",
    "* <font color= #FF0000>function </font> 2021/05/23\n",
    "* dictionary\n",
    "* numpy\n",
    "* matplotlib"
   ]
  },
  {
   "cell_type": "markdown",
   "metadata": {},
   "source": [
    "# function\n",
    "* define a block of actions\n",
    "* use \"return\" to return result\n",
    "* pass in parameters"
   ]
  },
  {
   "cell_type": "markdown",
   "metadata": {},
   "source": [
    "# format\n",
    "\n",
    "<font color= #FF0000>def </font> [funtion_name] (<font color= #FF0000>parameters </font>):\n",
    "<br>&emsp;some codes ...<br/>\n",
    "<font color= #FF0000>&emsp;return ... </font>"
   ]
  },
  {
   "cell_type": "code",
   "execution_count": 2,
   "metadata": {},
   "outputs": [],
   "source": [
    "def add(a,b):\n",
    "    c = a+b\n",
    "    return c"
   ]
  },
  {
   "cell_type": "code",
   "execution_count": 6,
   "metadata": {},
   "outputs": [],
   "source": [
    "def add(a,b):\n",
    "    return a+b"
   ]
  },
  {
   "cell_type": "code",
   "execution_count": 7,
   "metadata": {},
   "outputs": [
    {
     "name": "stdout",
     "output_type": "stream",
     "text": [
      "4\n"
     ]
    }
   ],
   "source": [
    "x = 1\n",
    "y = 3\n",
    "\n",
    "z = add(x,y)\n",
    "\n",
    "print(z)"
   ]
  },
  {
   "cell_type": "code",
   "execution_count": 4,
   "metadata": {},
   "outputs": [],
   "source": [
    "def print_hello():\n",
    "    print(\"hello world\")"
   ]
  },
  {
   "cell_type": "code",
   "execution_count": 5,
   "metadata": {},
   "outputs": [
    {
     "name": "stdout",
     "output_type": "stream",
     "text": [
      "hello world\n",
      "hello world\n",
      "hello world\n",
      "hello world\n",
      "hello world\n"
     ]
    }
   ],
   "source": [
    "for i in range(5):\n",
    "    print_hello()"
   ]
  },
  {
   "cell_type": "code",
   "execution_count": 8,
   "metadata": {},
   "outputs": [],
   "source": [
    "def search_index(input_list, target):\n",
    "    for idx, num in enumerate(input_list):\n",
    "        if(num==target):\n",
    "            return idx\n",
    "    return -1\n",
    "            "
   ]
  },
  {
   "cell_type": "code",
   "execution_count": 11,
   "metadata": {},
   "outputs": [
    {
     "name": "stdout",
     "output_type": "stream",
     "text": [
      "-1\n"
     ]
    }
   ],
   "source": [
    "# search function\n",
    "test_list = [4,3,6,47,24,65,11]\n",
    "\n",
    "print(search_index(test_list, 15))"
   ]
  },
  {
   "cell_type": "code",
   "execution_count": 21,
   "metadata": {},
   "outputs": [],
   "source": [
    "def add1(input_list):\n",
    "    for idx, num in enumerate(input_list):\n",
    "        input_list[idx]=input_list[idx]+1\n",
    "    return input_list"
   ]
  },
  {
   "cell_type": "code",
   "execution_count": 22,
   "metadata": {},
   "outputs": [
    {
     "name": "stdout",
     "output_type": "stream",
     "text": [
      "[5, 4, 7, 48, 25, 66, 12]\n"
     ]
    }
   ],
   "source": [
    "test_list = [4,3,6,47,24,65,11]\n",
    "\n",
    "print(add1(test_list))"
   ]
  },
  {
   "cell_type": "code",
   "execution_count": 8,
   "metadata": {},
   "outputs": [],
   "source": [
    "def new_add1(x):\n",
    "    x += 1\n",
    "    return x"
   ]
  },
  {
   "cell_type": "code",
   "execution_count": 9,
   "metadata": {},
   "outputs": [
    {
     "name": "stdout",
     "output_type": "stream",
     "text": [
      "10\n",
      "11\n"
     ]
    }
   ],
   "source": [
    "#global variable\n",
    "x = 10\n",
    "print(x)\n",
    "\n",
    "# local variable\n",
    "x = new_add1(x)\n",
    "\n",
    "print(x)"
   ]
  },
  {
   "cell_type": "code",
   "execution_count": 18,
   "metadata": {},
   "outputs": [
    {
     "name": "stdout",
     "output_type": "stream",
     "text": [
      "4\n",
      "0523\n"
     ]
    }
   ],
   "source": [
    "date_yd = \"2021/0523\"\n",
    "print(date_yd.index(\"/\"))\n",
    "print(date_yd[4+1:])"
   ]
  },
  {
   "cell_type": "code",
   "execution_count": 23,
   "metadata": {},
   "outputs": [
    {
     "name": "stdout",
     "output_type": "stream",
     "text": [
      "2021\n"
     ]
    }
   ],
   "source": [
    "date_yd = [\"2021/0523\",\"2021/0524\",\"2021/0525\",\"2021/0526\",\"2021/0527\",\"2021/0528\",\"2021/0529\"]\n",
    "date_d = []\n",
    "tmp = date_yd[0][0:date_yd[0].index(\"/\")-1]\n",
    "print(z)"
   ]
  },
  {
   "cell_type": "code",
   "execution_count": 26,
   "metadata": {},
   "outputs": [],
   "source": [
    "def removeyear(date_yd):\n",
    "    for idx, num in enumerate(date_yd):\n",
    "        date_yd[idx]= date_yd[idx][date_yd[idx].index(\"/\")+1:]\n",
    "    return date_yd"
   ]
  },
  {
   "cell_type": "code",
   "execution_count": 27,
   "metadata": {},
   "outputs": [
    {
     "name": "stdout",
     "output_type": "stream",
     "text": [
      "['0523', '0524', '0525', '0526', '0527', '0528', '0529']\n"
     ]
    }
   ],
   "source": [
    "date_yd = [\"2021/0523\",\"2021/0524\",\"2021/0525\",\"2021/0526\",\"2021/0527\",\"2021/0528\",\"2021/0529\"]\n",
    "date=removeyear(date_yd)\n",
    "print(date)"
   ]
  },
  {
   "cell_type": "code",
   "execution_count": null,
   "metadata": {},
   "outputs": [],
   "source": []
  }
 ],
 "metadata": {
  "kernelspec": {
   "display_name": "Python 3",
   "language": "python",
   "name": "python3"
  },
  "language_info": {
   "codemirror_mode": {
    "name": "ipython",
    "version": 3
   },
   "file_extension": ".py",
   "mimetype": "text/x-python",
   "name": "python",
   "nbconvert_exporter": "python",
   "pygments_lexer": "ipython3",
   "version": "3.7.6"
  }
 },
 "nbformat": 4,
 "nbformat_minor": 4
}
