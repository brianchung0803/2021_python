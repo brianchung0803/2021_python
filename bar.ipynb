{
 "cells": [
  {
   "cell_type": "markdown",
   "metadata": {},
   "source": [
    "# key components\n",
    "* <font color= #FF0000>function </font> 2021/05/23\n",
    "* dictionary\n",
    "* numpy\n",
    "* matplotlib"
   ]
  },
  {
   "cell_type": "markdown",
   "metadata": {},
   "source": [
    "# function\n",
    "* define a block of actions\n",
    "* use \"return\" to return result\n",
    "* pass in parameters"
   ]
  },
  {
   "cell_type": "markdown",
   "metadata": {},
   "source": [
    "# format\n",
    "\n",
    "<font color= #FF0000>def </font> [funtion_name] (<font color= #FF0000>parameters </font>):\n",
    "<br>&emsp;some codes ...<br/>\n",
    "<font color= #FF0000>&emsp;return ... </font>"
   ]
  },
  {
   "cell_type": "code",
   "execution_count": null,
   "metadata": {},
   "outputs": [],
   "source": [
    "def add(a,b):\n",
    "    c = a+b\n",
    "    return c"
   ]
  },
  {
   "cell_type": "code",
   "execution_count": null,
   "metadata": {},
   "outputs": [],
   "source": [
    "def add(a,b):\n",
    "    return a+b"
   ]
  },
  {
   "cell_type": "code",
   "execution_count": null,
   "metadata": {},
   "outputs": [],
   "source": [
    "x = 1\n",
    "y = 3\n",
    "\n",
    "z = add(x,y)\n",
    "\n",
    "print(z)"
   ]
  },
  {
   "cell_type": "code",
   "execution_count": null,
   "metadata": {},
   "outputs": [],
   "source": [
    "def print_hello():\n",
    "    print(\"hello world\")"
   ]
  },
  {
   "cell_type": "code",
   "execution_count": null,
   "metadata": {},
   "outputs": [],
   "source": [
    "for i in range(5):\n",
    "    print_hello()"
   ]
  },
  {
   "cell_type": "code",
   "execution_count": null,
   "metadata": {},
   "outputs": [],
   "source": [
    "def search_index(input_list, target):\n",
    "    for idx, num in enumerate(input_list):\n",
    "        if(num==target):\n",
    "            return idx\n",
    "    return -1\n",
    "            "
   ]
  },
  {
   "cell_type": "code",
   "execution_count": null,
   "metadata": {},
   "outputs": [],
   "source": [
    "# search function\n",
    "test_list = [4,3,6,47,24,65,11]\n",
    "\n",
    "print(search_index(test_list, 15))"
   ]
  },
  {
   "cell_type": "code",
   "execution_count": null,
   "metadata": {},
   "outputs": [],
   "source": [
    "def add1(input_list):\n",
    "    for idx, num in enumerate(input_list):\n",
    "        input_list[idx]=input_list[idx]+1\n",
    "    return input_list"
   ]
  },
  {
   "cell_type": "code",
   "execution_count": null,
   "metadata": {},
   "outputs": [],
   "source": [
    "test_list = [4,3,6,47,24,65,11]\n",
    "\n",
    "print(add1(test_list))"
   ]
  },
  {
   "cell_type": "code",
   "execution_count": null,
   "metadata": {},
   "outputs": [],
   "source": [
    "def new_add1(x):\n",
    "    x += 1\n",
    "    return x"
   ]
  },
  {
   "cell_type": "code",
   "execution_count": null,
   "metadata": {},
   "outputs": [],
   "source": [
    "#global variable\n",
    "x = 10\n",
    "print(x)\n",
    "\n",
    "# local variable\n",
    "x = new_add1(x)\n",
    "\n",
    "print(x)"
   ]
  },
  {
   "cell_type": "code",
   "execution_count": null,
   "metadata": {},
   "outputs": [],
   "source": [
    "date_yd = \"2021/0523\"\n",
    "print(date_yd.index(\"/\"))\n",
    "print(date_yd[4+1:])"
   ]
  },
  {
   "cell_type": "code",
   "execution_count": null,
   "metadata": {},
   "outputs": [],
   "source": [
    "date_yd = [\"2021/0523\",\"2021/0524\",\"2021/0525\",\"2021/0526\",\"2021/0527\",\"2021/0528\",\"2021/0529\"]\n",
    "date_d = []\n",
    "tmp = date_yd[0][0:date_yd[0].index(\"/\")-1]\n",
    "print(z)"
   ]
  },
  {
   "cell_type": "code",
   "execution_count": null,
   "metadata": {},
   "outputs": [],
   "source": [
    "def removeyear(date_yd):\n",
    "    for idx, num in enumerate(date_yd):\n",
    "        date_yd[idx]= date_yd[idx][date_yd[idx].index(\"/\")+1:]\n",
    "    return date_yd"
   ]
  },
  {
   "cell_type": "code",
   "execution_count": null,
   "metadata": {},
   "outputs": [],
   "source": [
    "date_yd = [\"2021/0523\",\"2021/0524\",\"2021/0525\",\"2021/0526\",\"2021/0527\",\"2021/0528\",\"2021/0529\"]\n",
    "date=removeyear(date_yd)\n",
    "print(date)"
   ]
  },
  {
   "cell_type": "markdown",
   "metadata": {},
   "source": [
    "# defalut arguments\n"
   ]
  },
  {
   "cell_type": "code",
   "execution_count": null,
   "metadata": {},
   "outputs": [],
   "source": [
    "def Add(x,y):\n",
    "    return x+y"
   ]
  },
  {
   "cell_type": "code",
   "execution_count": null,
   "metadata": {},
   "outputs": [],
   "source": [
    "x= 10\n",
    "y= 20\n",
    "\n",
    "print(Add(10,20))"
   ]
  },
  {
   "cell_type": "code",
   "execution_count": null,
   "metadata": {},
   "outputs": [],
   "source": [
    "def print_my_notebook(name,year,notebook=\"windows\"):\n",
    "    print(\"Hi, {}. Used years: {}, OS:{}\".format(name,year,notebook))"
   ]
  },
  {
   "cell_type": "code",
   "execution_count": null,
   "metadata": {},
   "outputs": [],
   "source": [
    "print_my_notebook(\"brian\",\"3\")"
   ]
  },
  {
   "cell_type": "markdown",
   "metadata": {},
   "source": [
    "# dictionary\n",
    "* list, tuple\n",
    "* (key,value)\n",
    "* dict[key] -> value\n",
    "* ex: (\"dog\",\"animal\"), (\"plane\",\"vehicle\"),(\"person\",\"animal\")"
   ]
  },
  {
   "cell_type": "code",
   "execution_count": null,
   "metadata": {},
   "outputs": [],
   "source": [
    "tmp_dict = {}\n",
    "print(type(tmp_dict))"
   ]
  },
  {
   "cell_type": "code",
   "execution_count": null,
   "metadata": {},
   "outputs": [],
   "source": [
    "tmp_dict = {\"dog\":\"animal\",\"plane\":\"vehicle\"}"
   ]
  },
  {
   "cell_type": "code",
   "execution_count": null,
   "metadata": {},
   "outputs": [],
   "source": [
    "print(tmp_dict[\"plane\"])"
   ]
  },
  {
   "cell_type": "code",
   "execution_count": null,
   "metadata": {},
   "outputs": [],
   "source": [
    "test = [\"a\",\"a\",\"a\",\"a\",\"a\",\"a\",\"a\",\"b\",\"b\",\"b\",\"b\",\"b\"]\n",
    "\n",
    "count_dict = {}\n",
    "\n",
    "for i in test:\n",
    "    count_dict.setdefault(i,0)\n",
    "    print(count_dict)\n",
    "    count_dict[i]+=1;"
   ]
  },
  {
   "cell_type": "code",
   "execution_count": null,
   "metadata": {},
   "outputs": [],
   "source": [
    "print(count_dict)"
   ]
  },
  {
   "cell_type": "code",
   "execution_count": null,
   "metadata": {},
   "outputs": [],
   "source": [
    "import numpy as np\n",
    "np.random.seed(1)\n",
    "\n",
    "test = np.random.randint(-100,100,30)"
   ]
  },
  {
   "cell_type": "code",
   "execution_count": null,
   "metadata": {
    "scrolled": true
   },
   "outputs": [],
   "source": [
    "print(test)"
   ]
  },
  {
   "cell_type": "markdown",
   "metadata": {},
   "source": [
    "design two functions\n",
    "1. dictionary [key: number, value: times]\n",
    "2. input (2numbers) -> output (2,times)\n",
    "\n",
    "(-63,40) -> (1,4)\n"
   ]
  },
  {
   "cell_type": "code",
   "execution_count": null,
   "metadata": {},
   "outputs": [],
   "source": [
    "tmp_dict = {\"dog\": [1,2,353],\"plane\":\"vehicle\"}\n",
    "print(tmp_dict)"
   ]
  },
  {
   "cell_type": "code",
   "execution_count": null,
   "metadata": {},
   "outputs": [],
   "source": [
    "tmp_dict_2 = {\"dict1\":tmp_dict}\n",
    "print(tmp_dict_2)"
   ]
  },
  {
   "cell_type": "markdown",
   "metadata": {},
   "source": [
    "# numpy\n",
    "* array, matrix"
   ]
  },
  {
   "cell_type": "code",
   "execution_count": null,
   "metadata": {},
   "outputs": [],
   "source": [
    "import numpy as np"
   ]
  },
  {
   "cell_type": "code",
   "execution_count": null,
   "metadata": {},
   "outputs": [],
   "source": [
    "test_list = [1,2,3,4,6,7]\n",
    "print(type(test_list))\n",
    "test_list = test_list*2\n",
    "print(test_list)"
   ]
  },
  {
   "cell_type": "code",
   "execution_count": null,
   "metadata": {},
   "outputs": [],
   "source": [
    "test_numpy = np.array(test_list)\n",
    "print(type(test_numpy))\n",
    "print(test_numpy)"
   ]
  },
  {
   "cell_type": "code",
   "execution_count": null,
   "metadata": {},
   "outputs": [],
   "source": [
    "test_numpy = test_numpy*2\n",
    "print(test_numpy)"
   ]
  },
  {
   "cell_type": "code",
   "execution_count": null,
   "metadata": {},
   "outputs": [],
   "source": [
    "print(test_numpy[test_numpy>=6])"
   ]
  },
  {
   "cell_type": "markdown",
   "metadata": {},
   "source": [
    "# open file"
   ]
  },
  {
   "cell_type": "code",
   "execution_count": 5,
   "metadata": {},
   "outputs": [
    {
     "name": "stdout",
     "output_type": "stream",
     "text": [
      "./2021_python/data\\all-states-history.csv\n"
     ]
    }
   ],
   "source": [
    "import numpy as np\n",
    "import os\n",
    "\n",
    "data_path = \"./2021_python/data\"\n",
    "file_name =\"all-states-history.csv\"\n",
    "file_path = os.path.join(data_path,file_name)\n",
    "print(file_path)"
   ]
  },
  {
   "cell_type": "code",
   "execution_count": 6,
   "metadata": {},
   "outputs": [
    {
     "name": "stdout",
     "output_type": "stream",
     "text": [
      "['\"2020-01-13\"' '\"WA\"' '' '' '0' '' '' '' '' '0' '' '' '' '0' '' '' '' ''\n",
      " '' '' '' '0' '0' '' '' '' '' '' '' '' '0' '' '0' '' '' '' '' '' '0' ''\n",
      " '0']\n"
     ]
    }
   ],
   "source": [
    "data = np.loadtxt(file_path, delimiter=',',dtype= np.str,skiprows=0)\n",
    "print(data[-1])"
   ]
  },
  {
   "cell_type": "code",
   "execution_count": 7,
   "metadata": {},
   "outputs": [
    {
     "name": "stdout",
     "output_type": "stream",
     "text": [
      "['\"date\"' '\"state\"' '\"death\"' '\"deathConfirmed\"' '\"deathIncrease\"'\n",
      " '\"deathProbable\"' '\"hospitalized\"' '\"hospitalizedCumulative\"'\n",
      " '\"hospitalizedCurrently\"' '\"hospitalizedIncrease\"' '\"inIcuCumulative\"'\n",
      " '\"inIcuCurrently\"' '\"negative\"' '\"negativeIncrease\"'\n",
      " '\"negativeTestsAntibody\"' '\"negativeTestsPeopleAntibody\"'\n",
      " '\"negativeTestsViral\"' '\"onVentilatorCumulative\"'\n",
      " '\"onVentilatorCurrently\"' '\"positive\"' '\"positiveCasesViral\"'\n",
      " '\"positiveIncrease\"' '\"positiveScore\"' '\"positiveTestsAntibody\"'\n",
      " '\"positiveTestsAntigen\"' '\"positiveTestsPeopleAntibody\"'\n",
      " '\"positiveTestsPeopleAntigen\"' '\"positiveTestsViral\"' '\"recovered\"'\n",
      " '\"totalTestEncountersViral\"' '\"totalTestEncountersViralIncrease\"'\n",
      " '\"totalTestResults\"' '\"totalTestResultsIncrease\"' '\"totalTestsAntibody\"'\n",
      " '\"totalTestsAntigen\"' '\"totalTestsPeopleAntibody\"'\n",
      " '\"totalTestsPeopleAntigen\"' '\"totalTestsPeopleViral\"'\n",
      " '\"totalTestsPeopleViralIncrease\"' '\"totalTestsViral\"'\n",
      " '\"totalTestsViralIncrease\"']\n",
      "['\"2020-01-13\"' '\"WA\"' '0' '0' '0' '0' '0' '0' '0' '0' '0' '0' '0' '0' '0'\n",
      " '0' '0' '0' '0' '0' '0' '0' '0' '0' '0' '0' '0' '0' '0' '0' '0' '0' '0'\n",
      " '0' '0' '0' '0' '0' '0' '0' '0']\n"
     ]
    }
   ],
   "source": [
    "data[data==\"\"] = 0        \n",
    "data_flip = np.flip(data,0)\n",
    "print(data_flip[-1])\n",
    "print(data_flip[0])\n"
   ]
  },
  {
   "cell_type": "code",
   "execution_count": null,
   "metadata": {},
   "outputs": [],
   "source": [
    "print(data_flip[0][0][0])"
   ]
  },
  {
   "cell_type": "markdown",
   "metadata": {},
   "source": [
    "# use date to divide\n",
    "# dict[key==date] => value==dict[key==state] => value = numbers"
   ]
  },
  {
   "cell_type": "code",
   "execution_count": 9,
   "metadata": {},
   "outputs": [
    {
     "name": "stdout",
     "output_type": "stream",
     "text": [
      "[305, 0, 0, 0, 1293, 1293, 33, 0, 0, 0, 0, 0, 0, 0, 1660758, 0, 2, 56886, 0, 0, 0, 0, 0, 0, 0, 68693, 0, 0, 0, 1731628, 0, 0, 0, 0, 0, 0, 0, 1731628, 0]\n"
     ]
    }
   ],
   "source": [
    "organized_data = {}\n",
    "\n",
    "for row in data_flip[:-1]:                       #data_flip為翻轉過來的\n",
    "                                                 #所以print(data_flip[:-1])會是從最下面一行的資料開始到倒數第二行，倒數第一行是標題\n",
    "    date = row[0][1:-1]                          #print(row[0][1:-1])是  標題date的  2021-03-07\n",
    "    state = row[1][1:-1]                        #print(row[1][1:-1])是  標題state的  AK\n",
    "                                                 #print(row[2])以此類推是  標題death的  305\n",
    "                                                 #print(row[6])以此類推是  標題hospitalized的  1293\n",
    "                                                 #不用寫成print(row[2][1:-1])是因為這行沒有 \" \"\n",
    "            \n",
    "    organized_data.setdefault(date,{})\n",
    "    organized_data[date].setdefault(state,[])\n",
    "    organized_data[date][state].extend(row[2:].astype(np.int32))\n",
    "    \n",
    "    \n",
    "    \n",
    "print(organized_data[\"2021-03-07\"][\"AK\"])"
   ]
  },
  {
   "cell_type": "code",
   "execution_count": 10,
   "metadata": {},
   "outputs": [
    {
     "name": "stdout",
     "output_type": "stream",
     "text": [
      "dict_keys(['2020-01-13', '2020-01-14', '2020-01-15', '2020-01-16', '2020-01-17', '2020-01-18', '2020-01-19', '2020-01-20', '2020-01-21', '2020-01-22', '2020-01-23', '2020-01-24', '2020-01-25', '2020-01-26', '2020-01-27', '2020-01-28', '2020-01-29', '2020-01-30', '2020-01-31', '2020-02-01', '2020-02-02', '2020-02-03', '2020-02-04', '2020-02-05', '2020-02-06', '2020-02-07', '2020-02-08', '2020-02-09', '2020-02-10', '2020-02-11', '2020-02-12', '2020-02-13', '2020-02-14', '2020-02-15', '2020-02-16', '2020-02-17', '2020-02-18', '2020-02-19', '2020-02-20', '2020-02-21', '2020-02-22', '2020-02-23', '2020-02-24', '2020-02-25', '2020-02-26', '2020-02-27', '2020-02-28', '2020-02-29', '2020-03-01', '2020-03-02', '2020-03-03', '2020-03-04', '2020-03-05', '2020-03-06', '2020-03-07', '2020-03-08', '2020-03-09', '2020-03-10', '2020-03-11', '2020-03-12', '2020-03-13', '2020-03-14', '2020-03-15', '2020-03-16', '2020-03-17', '2020-03-18', '2020-03-19', '2020-03-20', '2020-03-21', '2020-03-22', '2020-03-23', '2020-03-24', '2020-03-25', '2020-03-26', '2020-03-27', '2020-03-28', '2020-03-29', '2020-03-30', '2020-03-31', '2020-04-01', '2020-04-02', '2020-04-03', '2020-04-04', '2020-04-05', '2020-04-06', '2020-04-07', '2020-04-08', '2020-04-09', '2020-04-10', '2020-04-11', '2020-04-12', '2020-04-13', '2020-04-14', '2020-04-15', '2020-04-16', '2020-04-17', '2020-04-18', '2020-04-19', '2020-04-20', '2020-04-21', '2020-04-22', '2020-04-23', '2020-04-24', '2020-04-25', '2020-04-26', '2020-04-27', '2020-04-28', '2020-04-29', '2020-04-30', '2020-05-01', '2020-05-02', '2020-05-03', '2020-05-04', '2020-05-05', '2020-05-06', '2020-05-07', '2020-05-08', '2020-05-09', '2020-05-10', '2020-05-11', '2020-05-12', '2020-05-13', '2020-05-14', '2020-05-15', '2020-05-16', '2020-05-17', '2020-05-18', '2020-05-19', '2020-05-20', '2020-05-21', '2020-05-22', '2020-05-23', '2020-05-24', '2020-05-25', '2020-05-26', '2020-05-27', '2020-05-28', '2020-05-29', '2020-05-30', '2020-05-31', '2020-06-01', '2020-06-02', '2020-06-03', '2020-06-04', '2020-06-05', '2020-06-06', '2020-06-07', '2020-06-08', '2020-06-09', '2020-06-10', '2020-06-11', '2020-06-12', '2020-06-13', '2020-06-14', '2020-06-15', '2020-06-16', '2020-06-17', '2020-06-18', '2020-06-19', '2020-06-20', '2020-06-21', '2020-06-22', '2020-06-23', '2020-06-24', '2020-06-25', '2020-06-26', '2020-06-27', '2020-06-28', '2020-06-29', '2020-06-30', '2020-07-01', '2020-07-02', '2020-07-03', '2020-07-04', '2020-07-05', '2020-07-06', '2020-07-07', '2020-07-08', '2020-07-09', '2020-07-10', '2020-07-11', '2020-07-12', '2020-07-13', '2020-07-14', '2020-07-15', '2020-07-16', '2020-07-17', '2020-07-18', '2020-07-19', '2020-07-20', '2020-07-21', '2020-07-22', '2020-07-23', '2020-07-24', '2020-07-25', '2020-07-26', '2020-07-27', '2020-07-28', '2020-07-29', '2020-07-30', '2020-07-31', '2020-08-01', '2020-08-02', '2020-08-03', '2020-08-04', '2020-08-05', '2020-08-06', '2020-08-07', '2020-08-08', '2020-08-09', '2020-08-10', '2020-08-11', '2020-08-12', '2020-08-13', '2020-08-14', '2020-08-15', '2020-08-16', '2020-08-17', '2020-08-18', '2020-08-19', '2020-08-20', '2020-08-21', '2020-08-22', '2020-08-23', '2020-08-24', '2020-08-25', '2020-08-26', '2020-08-27', '2020-08-28', '2020-08-29', '2020-08-30', '2020-08-31', '2020-09-01', '2020-09-02', '2020-09-03', '2020-09-04', '2020-09-05', '2020-09-06', '2020-09-07', '2020-09-08', '2020-09-09', '2020-09-10', '2020-09-11', '2020-09-12', '2020-09-13', '2020-09-14', '2020-09-15', '2020-09-16', '2020-09-17', '2020-09-18', '2020-09-19', '2020-09-20', '2020-09-21', '2020-09-22', '2020-09-23', '2020-09-24', '2020-09-25', '2020-09-26', '2020-09-27', '2020-09-28', '2020-09-29', '2020-09-30', '2020-10-01', '2020-10-02', '2020-10-03', '2020-10-04', '2020-10-05', '2020-10-06', '2020-10-07', '2020-10-08', '2020-10-09', '2020-10-10', '2020-10-11', '2020-10-12', '2020-10-13', '2020-10-14', '2020-10-15', '2020-10-16', '2020-10-17', '2020-10-18', '2020-10-19', '2020-10-20', '2020-10-21', '2020-10-22', '2020-10-23', '2020-10-24', '2020-10-25', '2020-10-26', '2020-10-27', '2020-10-28', '2020-10-29', '2020-10-30', '2020-10-31', '2020-11-01', '2020-11-02', '2020-11-03', '2020-11-04', '2020-11-05', '2020-11-06', '2020-11-07', '2020-11-08', '2020-11-09', '2020-11-10', '2020-11-11', '2020-11-12', '2020-11-13', '2020-11-14', '2020-11-15', '2020-11-16', '2020-11-17', '2020-11-18', '2020-11-19', '2020-11-20', '2020-11-21', '2020-11-22', '2020-11-23', '2020-11-24', '2020-11-25', '2020-11-26', '2020-11-27', '2020-11-28', '2020-11-29', '2020-11-30', '2020-12-01', '2020-12-02', '2020-12-03', '2020-12-04', '2020-12-05', '2020-12-06', '2020-12-07', '2020-12-08', '2020-12-09', '2020-12-10', '2020-12-11', '2020-12-12', '2020-12-13', '2020-12-14', '2020-12-15', '2020-12-16', '2020-12-17', '2020-12-18', '2020-12-19', '2020-12-20', '2020-12-21', '2020-12-22', '2020-12-23', '2020-12-24', '2020-12-25', '2020-12-26', '2020-12-27', '2020-12-28', '2020-12-29', '2020-12-30', '2020-12-31', '2021-01-01', '2021-01-02', '2021-01-03', '2021-01-04', '2021-01-05', '2021-01-06', '2021-01-07', '2021-01-08', '2021-01-09', '2021-01-10', '2021-01-11', '2021-01-12', '2021-01-13', '2021-01-14', '2021-01-15', '2021-01-16', '2021-01-17', '2021-01-18', '2021-01-19', '2021-01-20', '2021-01-21', '2021-01-22', '2021-01-23', '2021-01-24', '2021-01-25', '2021-01-26', '2021-01-27', '2021-01-28', '2021-01-29', '2021-01-30', '2021-01-31', '2021-02-01', '2021-02-02', '2021-02-03', '2021-02-04', '2021-02-05', '2021-02-06', '2021-02-07', '2021-02-08', '2021-02-09', '2021-02-10', '2021-02-11', '2021-02-12', '2021-02-13', '2021-02-14', '2021-02-15', '2021-02-16', '2021-02-17', '2021-02-18', '2021-02-19', '2021-02-20', '2021-02-21', '2021-02-22', '2021-02-23', '2021-02-24', '2021-02-25', '2021-02-26', '2021-02-27', '2021-02-28', '2021-03-01', '2021-03-02', '2021-03-03', '2021-03-04', '2021-03-05', '2021-03-06', '2021-03-07'])\n",
      "dict_keys(['WY', 'WV', 'WI', 'WA', 'VT', 'VI', 'VA', 'UT', 'TX', 'TN', 'SD', 'SC', 'RI', 'PR', 'PA', 'OR', 'OK', 'OH', 'NY', 'NV', 'NM', 'NJ', 'NH', 'NE', 'ND', 'NC', 'MT', 'MS', 'MP', 'MO', 'MN', 'MI', 'ME', 'MD', 'MA', 'LA', 'KY', 'KS', 'IN', 'IL', 'ID', 'IA', 'HI', 'GU', 'GA', 'FL', 'DE', 'DC', 'CT', 'CO', 'CA', 'AZ', 'AS', 'AR', 'AL', 'AK'])\n"
     ]
    }
   ],
   "source": [
    "dates = organized_data.keys()\n",
    "states = organized_data[\"2021-03-07\"].keys()\n",
    "print(dates)\n",
    "print(states)"
   ]
  },
  {
   "cell_type": "code",
   "execution_count": 11,
   "metadata": {},
   "outputs": [
    {
     "name": "stdout",
     "output_type": "stream",
     "text": [
      "[0, 0, 0, 0, 0, 0, 0, 0, 0, 0, 0, 0, 0, 0, 0, 0, 0, 0, 0, 1, 1, 1, 2, 2, 3, 3, 3, 3, 3, 5, 6, 6, 6, 7, 7, 7, 8, 8, 8, 9, 9, 9, 9, 9, 9, 9, 9, 9, 9, 9, 9, 9, 9, 9, 9, 9, 9, 9, 9, 9, 9, 10, 10, 10, 10, 10, 10, 10, 10, 10, 10, 10, 10, 10, 10, 10, 10, 10, 10, 10, 10, 10, 10, 10, 10, 10, 10, 10, 10, 10, 10, 10, 10, 10, 10, 11, 11, 11, 12, 12, 12, 12, 12, 12, 12, 12, 12, 12, 12, 12, 12, 12, 14, 14, 14, 14, 14, 14, 14, 15, 16, 16, 16, 17, 17, 17, 17, 17, 17, 17, 17, 17, 17, 17, 18, 18, 18, 18, 19, 19, 19, 20, 20, 21, 22, 22, 23, 23, 24, 24, 25, 25, 25, 25, 25, 26, 26, 26, 26, 27, 27, 27, 28, 28, 28, 29, 29, 29, 30, 31, 32, 32, 36, 37, 37, 37, 37, 37, 37, 39, 39, 40, 40, 42, 42, 42, 42, 42, 42, 43, 44, 44, 44, 44, 44, 44, 45, 45, 45, 45, 45, 45, 45, 51, 52, 56, 56, 56, 56, 57, 57, 58, 58, 58, 58, 59, 60, 60, 60, 60, 60, 60, 64, 65, 66, 67, 67, 67, 67, 68, 68, 68, 68, 68, 68, 70, 71, 77, 81, 82, 83, 84, 84, 84, 84, 84, 84, 84, 84, 92, 96, 96, 96, 98, 98, 98, 100, 100, 101, 101, 102, 103, 103, 116, 116, 119, 119, 121, 121, 121, 122, 122, 130, 142, 143, 143, 146, 146, 150, 155, 158, 176, 176, 176, 179, 181, 183, 183, 184, 184, 184, 194, 197, 199, 199, 200, 200, 200, 201, 203, 206, 206, 215, 215, 218, 218, 220, 223, 223, 224, 224, 224, 224, 226, 228, 229, 229, 229, 229, 230, 253, 254, 254, 259, 259, 259, 260, 261, 262, 262, 262, 262, 262, 279, 279, 279, 279, 279, 279, 279, 280, 280, 280, 282, 282, 282, 282, 287, 288, 288, 289, 289, 289, 290, 290, 290, 290, 290, 290, 290, 300, 302, 303, 303, 305, 305, 305]\n"
     ]
    }
   ],
   "source": [
    "Death_WithDates = {}\n",
    "\n",
    "for date_key, date_value in organized_data.items() :\n",
    "    for state_key, state_value in date_value.items():\n",
    "        Death_WithDates.setdefault(state_key,[])\n",
    "        Death_WithDates[state_key].append(state_value[0])\n",
    "         \n",
    "                                       #print(state_value[0])為標題death的  305\n",
    "                                       #print(state_value[4])為標題hospitalized的 1293\n",
    "                                       #print(state_value[6])以此類推為標題hospitalizedCurrently的 33\n",
    "                        \n",
    "\n",
    "                    \n",
    "print(Death_WithDates[\"AK\"])"
   ]
  },
  {
   "cell_type": "code",
   "execution_count": null,
   "metadata": {},
   "outputs": [],
   "source": [
    "import matplotlib.pyplot as plt\n",
    "\n",
    "dates_list = []\n",
    "for i in dates:\n",
    "    dates_list.append(i)\n",
    "\n",
    "    \n",
    "print(len(dates))\n",
    "print(len(Death_WithDates[\"AK\"]))\n",
    "\n",
    "\n",
    "add_zeros = np.zeros(len(dates)-len(Death_WithDates[\"AK\"]))\n",
    "Death_WithDates[\"AK\"] =  np.concatenate((add_zeros,Death_WithDates[\"AK\"]),0)\n",
    "print(len(Death_WithDates[\"AK\"]))\n",
    "\n",
    "# # for key,value in Death_WithDates.items():\n",
    "# #     print(key,len(value))\n"
   ]
  },
  {
   "cell_type": "code",
   "execution_count": null,
   "metadata": {},
   "outputs": [],
   "source": [
    "index = 0\n",
    "for key,value in Death_WithDates.items():\n",
    "    if(index==5):\n",
    "        break\n",
    "    add_zeros = np.zeros(len(dates)-len(value))\n",
    "    value =  np.concatenate((add_zeros,value),0)\n",
    "    plt.plot(value,label=key)\n",
    "    index+=1\n",
    "    \n",
    "plt.xlabel(\"days\")\n",
    "plt.ylabel(\"deaths\")\n",
    "plt.title(\"deaths with states\")\n",
    "plt.legend()\n",
    "plt.savefig(\"./visualize_data_1.png\")\n",
    "plt.show()"
   ]
  },
  {
   "cell_type": "code",
   "execution_count": null,
   "metadata": {},
   "outputs": [],
   "source": [
    "print(np.zeros((2,4,5)))"
   ]
  },
  {
   "cell_type": "code",
   "execution_count": null,
   "metadata": {},
   "outputs": [],
   "source": []
  },
  {
   "cell_type": "code",
   "execution_count": null,
   "metadata": {},
   "outputs": [],
   "source": [
    "import matplotlib.pyplot as plt\n",
    "\n",
    "labels = 'AK','B','C','D','E','F'\n",
    "size = [1,2,3,4,5,6]\n",
    "plt.pie(size , labels = labels,autopct='%1.1f%%')\n",
    "plt.axis('equal')\n",
    "plt.show()"
   ]
  },
  {
   "cell_type": "code",
   "execution_count": null,
   "metadata": {},
   "outputs": [],
   "source": []
  },
  {
   "cell_type": "code",
   "execution_count": null,
   "metadata": {},
   "outputs": [],
   "source": []
  },
  {
   "cell_type": "code",
   "execution_count": 13,
   "metadata": {},
   "outputs": [
    {
     "name": "stdout",
     "output_type": "stream",
     "text": [
      "[0, 0, 0, 1, 1, 1, 1, 1, 1, 1, 1, 1, 1, 1, 1, 1, 1, 1, 2, 3, 4, 6, 10, 10, 10, 12, 15, 16, 17, 17, 21, 25, 26, 28, 30, 30, 32, 33, 33, 33, 33, 36, 37, 37, 37, 37, 37, 37, 37, 37, 37, 37, 37, 38, 38, 38, 39, 39, 39, 39, 40, 41, 41, 41, 41, 41, 41, 41, 41, 42, 43, 45, 46, 46, 46, 46, 47, 49, 49, 49, 49, 49, 49, 49, 50, 50, 50, 50, 51, 52, 52, 53, 53, 53, 53, 53, 53, 54, 55, 56, 57, 60, 61, 61, 61, 63, 65, 65, 65, 66, 67, 67, 67, 67, 68, 68, 68, 68, 68, 69, 71, 75, 78, 80, 84, 87, 90, 93, 95, 96, 98, 102, 103, 105, 107, 110, 111, 113, 118, 124, 126, 132, 135, 138, 143, 145, 147, 151, 153, 154, 156, 158, 161, 164, 167, 172, 176, 180, 181, 186, 191, 193, 197, 203, 206, 208, 214, 218, 220, 223, 225, 228, 233, 235, 236, 239, 240, 241, 241, 246, 247, 252, 252, 256, 256, 260, 265, 268, 270, 270, 271, 272, 275, 278, 279, 280, 283, 283, 287, 292, 295, 296, 300, 302, 304, 308, 309, 313, 315, 317, 320, 322, 324, 325, 328, 333, 337, 339, 341, 345, 352, 355, 356, 365, 373, 377, 383, 387, 389, 395, 401, 415, 419, 421, 424, 425, 434, 442, 448, 455, 462, 470, 472, 476, 482, 491, 499, 509, 514, 520, 528, 537, 542, 543, 550, 559, 562, 584, 593, 606, 612, 612, 617, 631, 663, 688, 691, 721, 722, 725, 749, 768, 783, 794, 799, 799, 805, 827, 847, 860, 869, 883, 886, 889, 908, 921, 921, 928, 935, 935, 937, 948, 961, 983, 983, 991, 992, 994, 1004, 1017, 1023, 1023, 1030, 1033, 1033, 1056, 1074, 1084, 1095, 1100, 1101, 1104, 1104, 1138, 1149, 1152, 1152, 1153, 1153, 1162, 1170, 1177, 1184, 1184, 1185, 1185, 1194, 1200, 1201, 1202, 1205, 1205, 1205, 1209, 1213, 1214, 1219, 1219, 1219, 1219, 1223, 1224, 1227, 1230, 1230, 1230, 1230, 1233, 1238, 1243, 1243, 1243, 1243, 1251, 1260, 1260, 1271, 1277, 1277, 1277, 1279, 1286, 1285, 1290, 1293, 1293, 1293]\n"
     ]
    }
   ],
   "source": [
    "Hospitalized_WithDates = {}\n",
    "\n",
    "for date_key, date_value in organized_data.items() :\n",
    "    for state_key, state_value in date_value.items():\n",
    "        Hospitalized_WithDates.setdefault(state_key,[])\n",
    "        Hospitalized_WithDates[state_key].append(state_value[4])\n",
    "         \n",
    "                                       #print(state_value[0])為標題death的  305\n",
    "                                       #print(state_value[4])為標題hospitalized的 1293\n",
    "                                       #print(state_value[6])以此類推為標題hospitalizedCurrently的 33\n",
    "\n",
    "                    \n",
    "print(Hospitalized_WithDates[\"AK\"])"
   ]
  },
  {
   "cell_type": "code",
   "execution_count": 14,
   "metadata": {},
   "outputs": [
    {
     "name": "stdout",
     "output_type": "stream",
     "text": [
      "420\n",
      "367\n",
      "420\n"
     ]
    }
   ],
   "source": [
    "import matplotlib.pyplot as plt\n",
    "\n",
    "dates_list = []\n",
    "for i in dates:\n",
    "    dates_list.append(i)\n",
    "\n",
    "    \n",
    "print(len(dates))\n",
    "print(len(Hospitalized_WithDates[\"AK\"]))\n",
    "\n",
    "\n",
    "add_zeros = np.zeros(len(dates)-len(Hospitalized_WithDates[\"AK\"]))\n",
    "Hospitalized_WithDates[\"AK\"] =  np.concatenate((add_zeros,Hospitalized_WithDates[\"AK\"]),0)\n",
    "print(len(Hospitalized_WithDates[\"AK\"]))\n",
    "\n",
    "# # for key,value in Hospitalized_WithDates.items():\n",
    "# #     print(key,len(value))"
   ]
  },
  {
   "cell_type": "code",
   "execution_count": 15,
   "metadata": {},
   "outputs": [
    {
     "data": {
      "image/png": "[encoded data removed]",
      "text/plain": [
       "<Figure size 432x288 with 1 Axes>"
      ]
     },
     "metadata": {
      "needs_background": "light"
     },
     "output_type": "display_data"
    }
   ],
   "source": [
    "index = 0\n",
    "for key,value in Hospitalized_WithDates.items():\n",
    "    if(index==5):\n",
    "        break\n",
    "    add_zeros = np.zeros(len(dates)-len(value))\n",
    "    value =  np.concatenate((add_zeros,value),0)\n",
    "    plt.plot(value,label=key)\n",
    "    index+=1\n",
    "    \n",
    "plt.xlabel(\"days\")\n",
    "plt.ylabel(\"hospitalized\")\n",
    "plt.title(\"hospitalized with states\")\n",
    "plt.legend()\n",
    "plt.savefig(\"./visualize_data_1.png\")\n",
    "plt.show()"
   ]
  },
  {
   "cell_type": "code",
   "execution_count": null,
   "metadata": {},
   "outputs": [],
   "source": []
  },
  {
   "cell_type": "code",
   "execution_count": null,
   "metadata": {},
   "outputs": [],
   "source": []
  },
  {
   "cell_type": "code",
   "execution_count": 17,
   "metadata": {},
   "outputs": [
    {
     "data": {
      "image/png": "[encoded data removed]",
      "text/plain": [
       "<Figure size 432x288 with 1 Axes>"
      ]
     },
     "metadata": {
      "needs_background": "light"
     },
     "output_type": "display_data"
    }
   ],
   "source": [
    "import matplotlib.pyplot as plt\n",
    "import numpy as np\n",
    "\n",
    "col_count = 3\n",
    "bar_width = 0.2\n",
    "index = np.arange(col_count)\n",
    "\n",
    "\n",
    "\n",
    "AK = (data[1][19], data[1][12], data[1][6])\n",
    "AL = (data[2][19], data[2][12], data[2][6])\n",
    "AR = (data[3][19], data[3][12], data[3][6])\n",
    "\n",
    "\n",
    "\n",
    "# AK = (56886, 0, 1293)\n",
    "# AL = (499819, 1931711, 45976)\n",
    "# AR = (324818, 2480716, 14926)\n",
    "\n",
    "\n",
    "\n",
    "A = plt.bar(index,AK,bar_width,alpha=.4,label=\"AK\") \n",
    "B = plt.bar(index+0.2,AL,bar_width,alpha=.4,label=\"AL\") \n",
    "C = plt.bar(index+0.4,AR,bar_width,alpha=.4,label=\"AR\")\n",
    "\n",
    "\n",
    "\n",
    "\n",
    "plt.ylabel(\"people\")\n",
    "plt.xlabel(\"people's status\")\n",
    "plt.title(\"people's status by state\")\n",
    "plt.xticks(index+.3 / 2 ,(\"positive\",\"negative\",\"hospitalized\"))\n",
    "plt.legend() \n",
    "plt.grid(True)\n",
    "plt.show()"
   ]
  },
  {
   "cell_type": "code",
   "execution_count": null,
   "metadata": {},
   "outputs": [],
   "source": []
  }
 ],
 "metadata": {
  "kernelspec": {
   "display_name": "Python 3",
   "language": "python",
   "name": "python3"
  },
  "language_info": {
   "codemirror_mode": {
    "name": "ipython",
    "version": 3
   },
   "file_extension": ".py",
   "mimetype": "text/x-python",
   "name": "python",
   "nbconvert_exporter": "python",
   "pygments_lexer": "ipython3",
   "version": "3.8.5"
  }
 },
 "nbformat": 4,
 "nbformat_minor": 4
}
