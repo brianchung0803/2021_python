{
 "cells": [
  {
   "cell_type": "markdown",
   "metadata": {},
   "source": [
    "# 2021/5/2 tutorial\n",
    "\n",
    "* <font color= #FF0000>while loop </font>\n",
    "* <font color= #0000FF>default open file way </font>"
   ]
  },
  {
   "cell_type": "markdown",
   "metadata": {},
   "source": [
    "# for loop:"
   ]
  },
  {
   "cell_type": "code",
   "execution_count": null,
   "metadata": {},
   "outputs": [],
   "source": [
    "print(\"for loop:\")\n",
    "for i in range(10):\n",
    "    print(i)"
   ]
  },
  {
   "cell_type": "code",
   "execution_count": null,
   "metadata": {},
   "outputs": [],
   "source": [
    "num = input(\"enter a number: \")\n",
    "print(\"the type of num:\", type(num))\n",
    "print()\n",
    "\n",
    "num = int(num)\n",
    "print(\"cast original type to:\",type(num),\"\\n\")\n",
    "\n",
    "print(\"for loop:\")\n",
    "for i in range(num):\n",
    "    print(i)"
   ]
  },
  {
   "cell_type": "code",
   "execution_count": null,
   "metadata": {},
   "outputs": [],
   "source": [
    "Sum = 0\n",
    "for num in range(5):\n",
    "    Sum = Sum + num\n",
    "    \n",
    "# Sum = 0 + 0 -> Sum = 0\n",
    "# Sum = 0 + 1 -> Sum = 1\n",
    "# Sum = 1 + 2 -> Sum = 3\n",
    "# Sum = 3 + 3 -> Sum = 6\n",
    "# Sum = 6 + 4 -> Sum = 10\n",
    "\n",
    "print(\"Summation from 0 to 4:\",Sum)"
   ]
  },
  {
   "cell_type": "code",
   "execution_count": null,
   "metadata": {},
   "outputs": [],
   "source": [
    "Even_sum = 0\n",
    "for num in range(0,10,2):\n",
    "    Even_sum += num\n",
    "    # Even_sum = Even_sum + num\n",
    "# Sum = 0 + 0 -> Sum = 0\n",
    "# Sum = 0 + 2 -> Sum = 2\n",
    "# Sum = 2 + 4 -> Sum = 6\n",
    "# Sum = 6 + 6 -> Sum = 12\n",
    "# Sum = 12 + 8 -> Sum = 20\n",
    "\n",
    "print(\"Even summation:\",Even_sum)"
   ]
  },
  {
   "cell_type": "code",
   "execution_count": null,
   "metadata": {},
   "outputs": [],
   "source": [
    "Odd_sum = 0\n",
    "for num in range(1,10,2):\n",
    "    Odd_sum += num\n",
    "    \n",
    "# Sum = 0 + 1 -> Sum = 1\n",
    "# Sum = 1 + 3 -> Sum = 4\n",
    "# Sum = 4 + 5 -> Sum = 9\n",
    "# Sum = 9 + 7 -> Sum = 16\n",
    "# Sum = 16 + 9 -> Sum = 25\n",
    "\n",
    "print(\"Odd summation:\",Odd_sum)"
   ]
  },
  {
   "cell_type": "code",
   "execution_count": null,
   "metadata": {},
   "outputs": [],
   "source": [
    "for num in range(10,-1,-2):\n",
    "    print(num)"
   ]
  },
  {
   "cell_type": "markdown",
   "metadata": {},
   "source": [
    "# continue and break\n",
    "* continue\n",
    "    + skip the current one (statement is True) and continue\n",
    "    * ex: if(num<0): continue;\n",
    "* break\n",
    "    + if the statement is True, then break the loop"
   ]
  },
  {
   "cell_type": "code",
   "execution_count": null,
   "metadata": {},
   "outputs": [],
   "source": [
    "#continue example\n",
    "\n",
    "for i in range(10):\n",
    "    if(i==5):\n",
    "        continue\n",
    "    print(\"continue:\",i)\n",
    "\n",
    "#break example\n",
    "for i in range(10):\n",
    "    if(i==5):\n",
    "        break\n",
    "    print(\"break:\",i)\n"
   ]
  },
  {
   "cell_type": "code",
   "execution_count": null,
   "metadata": {},
   "outputs": [],
   "source": [
    "for i in range(10):\n",
    "    if(i%2==1):\n",
    "        print(i,\", the number is odd\")\n",
    "    continue\n",
    "    print(\"hi\")\n",
    "    print(i,\", the number is even\")\n",
    "\n",
    "# 1 iteration: i == 0, the number is even\n",
    "# 2 iteration: i == 1, statement is true, print(i,\", the number is odd\"), continue, skip to next iteration\n",
    "# 3 iteration: i == 2, the number is even\n",
    "# 4 iteration: i == 3, statement is true, print(i,\", the number is odd\"), continue, skip to next iteration\n",
    "# ..."
   ]
  },
  {
   "cell_type": "markdown",
   "metadata": {},
   "source": [
    "# List and Tuple"
   ]
  },
  {
   "cell_type": "code",
   "execution_count": null,
   "metadata": {},
   "outputs": [],
   "source": [
    "number_list = [1,5,10,2,7]\n",
    "\n",
    "for i in range(len(number_list)):\n",
    "    print(\"use index:\",number_list[i])\n",
    "    \n",
    "for num in number_list:\n",
    "    print(\"direct:\",num)"
   ]
  },
  {
   "cell_type": "code",
   "execution_count": null,
   "metadata": {},
   "outputs": [],
   "source": [
    "# add 1\n",
    "# for i in number_list:\n",
    "#     i+=1\n",
    "\n",
    "for i in range(len(number_list)):\n",
    "    number_list[i]+=1\n",
    "\n",
    "for i in range(len(number_list)):\n",
    "    print(number_list[i])"
   ]
  },
  {
   "cell_type": "code",
   "execution_count": null,
   "metadata": {},
   "outputs": [],
   "source": [
    "number_tuple = (1,5,10,2,7)\n",
    "\n",
    "for i in range(len(number_tuple)):\n",
    "    print(number_tuple[i])\n",
    "\n",
    "for i in range(len(number_tuple)):\n",
    "    number_tuple[i]+=1"
   ]
  },
  {
   "cell_type": "code",
   "execution_count": null,
   "metadata": {},
   "outputs": [],
   "source": [
    "number_list = [1,5,10,2,7]\n",
    "function_sum = sum(number_list)\n",
    "print(\"list sum:\",function_sum)\n",
    "\n",
    "number_tuple = (1,5,10,2,7)\n",
    "function_sum = sum(number_tuple)\n",
    "print(\"tuple sum:\",function_sum)"
   ]
  },
  {
   "cell_type": "code",
   "execution_count": null,
   "metadata": {},
   "outputs": [],
   "source": [
    "combined_list = [\"hi\",\"today\",5,2.3,True]\n",
    "for i in combined_list:\n",
    "    print(i,\", type:\",type(i))"
   ]
  },
  {
   "cell_type": "code",
   "execution_count": null,
   "metadata": {},
   "outputs": [],
   "source": [
    "# double for\n",
    "\n",
    "for i in range(1,10):\n",
    "    for j in range(1,10):\n",
    "        print(i,\"*\",j,\"=\",i*j)\n",
    "    print()"
   ]
  },
  {
   "cell_type": "markdown",
   "metadata": {},
   "source": [
    "# some basic functions for list\n",
    "* multiple\n",
    "* <font color= #FF0000>get certain range </font>\n",
    "* del\n",
    "* <font color= #FF0000>min and max </font>\n",
    "* index\n",
    "* <font color= #FF0000> append </font>\n",
    "* extend\n",
    "* pop\n",
    "* <font color= #FF0000> sort </font>"
   ]
  },
  {
   "cell_type": "code",
   "execution_count": null,
   "metadata": {},
   "outputs": [],
   "source": [
    "# mutiple: multiple a list for n times\n",
    "old_list = [1,2,3]\n",
    "new_list = old_list*4\n",
    "\n",
    "print(new_list)"
   ]
  },
  {
   "cell_type": "code",
   "execution_count": null,
   "metadata": {},
   "outputs": [],
   "source": [
    "# get certain range\n",
    "old_list = [1,2,3,4,5,6,7,8]\n",
    "new_list = old_list[2:5]\n",
    "print(\"from index 2 to index 4:\",new_list)\n",
    "\n",
    "new_list = old_list[2:]\n",
    "print(\"from index 2 to the last:\",new_list)\n",
    "\n",
    "new_list = old_list[0::2]\n",
    "print(\"even indexes:\",new_list)\n",
    "\n",
    "new_list = old_list[1::2]\n",
    "print(\"odd indexes:\",new_list)\n",
    "\n",
    "new_list = old_list[2:-1]\n",
    "print(\"from index 2 to the last-1:\",new_list)\n",
    "\n",
    "print(old_list[-1])"
   ]
  },
  {
   "cell_type": "code",
   "execution_count": null,
   "metadata": {},
   "outputs": [],
   "source": [
    "#del\n",
    "old_list = [1,2,3,4,5,6,7,8]\n",
    "del(old_list[2:5])\n",
    "\n",
    "print(old_list)\n",
    "\n",
    "\n",
    "old_list = [1,2,3,4,5,6,7,8]\n",
    "del(old_list[2])\n",
    "\n",
    "print(old_list)"
   ]
  },
  {
   "cell_type": "code",
   "execution_count": null,
   "metadata": {},
   "outputs": [],
   "source": [
    "#min and max\n",
    "old_list = [1,2,3,4,5,6,7,8]\n",
    "print(\"min:\",min(old_list))\n",
    "print(\"max:\",max(old_list))"
   ]
  },
  {
   "cell_type": "code",
   "execution_count": null,
   "metadata": {},
   "outputs": [],
   "source": [
    "# find max\n",
    "number_list = [3,54,23,1,56,575,33,2,565,323,7,5]\n",
    "biggest = 0 \n",
    "\n",
    "for i in number_list:\n",
    "    if(i>biggest):\n",
    "        biggest = i\n",
    "print(biggest)"
   ]
  },
  {
   "cell_type": "code",
   "execution_count": null,
   "metadata": {},
   "outputs": [],
   "source": [
    "# problem\n",
    "number_list = [-3,-54,-23,-1,-56,-575,-33,-2,-565,-323,-7,-5]\n",
    "biggest = 0 \n",
    "\n",
    "for i in number_list:\n",
    "    if(i>biggest):\n",
    "        biggest = i\n",
    "print(biggest)"
   ]
  },
  {
   "cell_type": "code",
   "execution_count": null,
   "metadata": {},
   "outputs": [],
   "source": [
    "#solution\n",
    "biggest = number_list[0]\n",
    "\n",
    "for i in number_list[1:]:\n",
    "    if(i>biggest):\n",
    "        biggest = i\n",
    "print(biggest)\n"
   ]
  },
  {
   "cell_type": "code",
   "execution_count": null,
   "metadata": {},
   "outputs": [],
   "source": [
    "# use .index() to find the position in list\n",
    "old_list = [1,2,3,4,5,6,7,8]\n",
    "print(old_list.index(3))"
   ]
  },
  {
   "cell_type": "code",
   "execution_count": null,
   "metadata": {},
   "outputs": [],
   "source": [
    "# append: add one element to the bottom of the list\n",
    "new_list = [\"hi\",True]\n",
    "old_list = [3,4,5]\n",
    "for i in old_list:\n",
    "    new_list.append(i)\n",
    "print(new_list)"
   ]
  },
  {
   "cell_type": "code",
   "execution_count": null,
   "metadata": {},
   "outputs": [],
   "source": [
    "old_list = [1,2,3]\n",
    "new_list = [\"hi\",\"brian\"]\n",
    "new_list.append(old_list)\n",
    "print(new_list)"
   ]
  },
  {
   "cell_type": "code",
   "execution_count": null,
   "metadata": {},
   "outputs": [],
   "source": [
    "# extend: add one list to the bottom of another list\n",
    "old_list = [1,2,3]\n",
    "new_list = [\"hi\",\"brian\"]\n",
    "new_list.extend(old_list)\n",
    "print(new_list)"
   ]
  },
  {
   "cell_type": "code",
   "execution_count": null,
   "metadata": {},
   "outputs": [],
   "source": [
    "# pop: get the last element in the list and delete it\n",
    "old_list = [1,2,3]\n",
    "pop_num = old_list.pop()\n",
    "\n",
    "print(\"pop_num:\",pop_num)\n",
    "print(\"list:\",old_list)"
   ]
  },
  {
   "cell_type": "code",
   "execution_count": null,
   "metadata": {},
   "outputs": [],
   "source": [
    "# sort\n",
    "old_list = [3,45,65,22,443,976.57,44,12,7,5,100,31]\n",
    "old_list.sort()\n",
    "print(\"from small to big:\",old_list)\n",
    "\n",
    "old_list.sort(reverse=True)\n",
    "print(\"from big to small:\",old_list)"
   ]
  },
  {
   "cell_type": "markdown",
   "metadata": {},
   "source": [
    "# 2021/5/9 tutorial\n",
    "* <font color= #FF0000>while loop </font>\n",
    "* <font color= #0000FF>default open file </font>\n",
    "* <font color= #FF0000>csv open file </font>\n",
    "* <font color= #FF0000>numpy open file </font>\n",
    "* <font color= #FF0000>basic numpy tutorial </font>\n",
    "* <font color= #FF0000>dictionary </font>"
   ]
  },
  {
   "cell_type": "markdown",
   "metadata": {},
   "source": [
    "# while loop\n",
    "* strong logical use\n",
    "* no ending point"
   ]
  },
  {
   "cell_type": "code",
   "execution_count": null,
   "metadata": {},
   "outputs": [],
   "source": [
    "num = 1\n",
    "while(num<10):\n",
    "    print(num,\"hi\")\n",
    "    num+=1"
   ]
  },
  {
   "cell_type": "code",
   "execution_count": null,
   "metadata": {},
   "outputs": [],
   "source": [
    "# while loop enter a number\n",
    "while(True):\n",
    "    target = input(\"enter a number(range from 0 to 100): \")\n",
    "    if(int(target)>=0 and int(target)<=100):\n",
    "        break\n",
    "target = int(target)"
   ]
  },
  {
   "cell_type": "code",
   "execution_count": null,
   "metadata": {},
   "outputs": [],
   "source": [
    "# binary search\n",
    "left = 0\n",
    "right = 100\n",
    "i = 0\n",
    "while(True):\n",
    "    \n",
    "    mid = int((left+right)/2)\n",
    "    if(mid>target):\n",
    "        right = mid\n",
    "    elif(mid<target):\n",
    "        left = mid\n",
    "    else:\n",
    "        print(\"find!\",mid)\n",
    "        break\n",
    "    print(\"iteration:\",i,\"left:\",left,\"right:\",right)\n",
    "    i+=1\n",
    "        "
   ]
  },
  {
   "cell_type": "markdown",
   "metadata": {},
   "source": [
    "# import module and package\n",
    "\n",
    "* package(file) & module(code)  \n",
    "* just think as finding a toolbox\n",
    "* custimize your own module and package\n",
    "* often used: numpy, matplotlib, csv, pandas, os, tensorflow, etc.\n",
    "* conda install ... or pip install ..."
   ]
  },
  {
   "cell_type": "code",
   "execution_count": null,
   "metadata": {},
   "outputs": [],
   "source": [
    "import numpy as np\n",
    "import matplotlib.pyplot as plt\n",
    "import pandas as pd\n",
    "import os"
   ]
  },
  {
   "cell_type": "markdown",
   "metadata": {},
   "source": [
    "# several ways to open a text (or csv)\n",
    "* default\n",
    "* numpy\n",
    "* pandas"
   ]
  },
  {
   "cell_type": "code",
   "execution_count": null,
   "metadata": {},
   "outputs": [],
   "source": [
    "file_path = \"../data\"\n",
    "file_name = os.path.join(file_path, \"all-states-history.csv\")\n",
    "print(file_name)"
   ]
  },
  {
   "cell_type": "code",
   "execution_count": null,
   "metadata": {},
   "outputs": [],
   "source": [
    "# default\n",
    "content = []\n",
    "with open(file_name) as file:\n",
    "    line = file.readline()\n",
    "    while(line):\n",
    "        content.append(line)\n",
    "        line = file.readline()\n",
    "        \n",
    "print(len(content))"
   ]
  },
  {
   "cell_type": "code",
   "execution_count": null,
   "metadata": {},
   "outputs": [],
   "source": [
    "#csv\n",
    "import csv\n",
    "\n",
    "content=[]\n",
    "with open(file_name,newline='') as csvfile:\n",
    "    tmp = csv.reader(csvfile,delimiter=\",\")\n",
    "    for row in tmp:\n",
    "        content.append(row)\n",
    "        \n",
    "print(len(content))"
   ]
  },
  {
   "cell_type": "code",
   "execution_count": null,
   "metadata": {},
   "outputs": [],
   "source": [
    "# numpy\n",
    "content= np.loadtxt(file_name, delimiter=',',dtype= np.str)\n",
    "print(content.shape)\n",
    "print(content[0])"
   ]
  },
  {
   "cell_type": "code",
   "execution_count": null,
   "metadata": {},
   "outputs": [],
   "source": [
    "# numpy tutorial\n"
   ]
  },
  {
   "cell_type": "code",
   "execution_count": null,
   "metadata": {},
   "outputs": [],
   "source": [
    "# save file\n",
    "\n",
    "save_file = os.path.join(file_path,\"test.csv\")\n",
    "with open(save_file, mode='w') as csv_file:\n",
    "    writer = csv.Writer(csv_file)\n",
    "    writer.writerow()"
   ]
  }
 ],
 "metadata": {
  "kernelspec": {
   "display_name": "Python 3",
   "language": "python",
   "name": "python3"
  },
  "language_info": {
   "codemirror_mode": {
    "name": "ipython",
    "version": 3
   },
   "file_extension": ".py",
   "mimetype": "text/x-python",
   "name": "python",
   "nbconvert_exporter": "python",
   "pygments_lexer": "ipython3",
   "version": "3.7.6"
  }
 },
 "nbformat": 4,
 "nbformat_minor": 4
}
