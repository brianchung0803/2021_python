{
 "cells": [
  {
   "cell_type": "markdown",
   "metadata": {},
   "source": [
    "# key components\n",
    "* <font color= #FF0000>function </font> 2021/05/23\n",
    "* dictionary\n",
    "* numpy\n",
    "* matplotlib"
   ]
  },
  {
   "cell_type": "markdown",
   "metadata": {},
   "source": [
    "# function\n",
    "* define a block of actions\n",
    "* use \"return\" to return result\n",
    "* pass in parameters"
   ]
  },
  {
   "cell_type": "markdown",
   "metadata": {},
   "source": [
    "# format\n",
    "\n",
    "<font color= #FF0000>def </font> [funtion_name] (<font color= #FF0000>parameters </font>):\n",
    "<br>&emsp;some codes ...<br/>\n",
    "<font color= #FF0000>&emsp;return ... </font>"
   ]
  },
  {
   "cell_type": "code",
   "execution_count": null,
   "metadata": {},
   "outputs": [],
   "source": [
    "def add(a,b):\n",
    "    c = a+b\n",
    "    return c"
   ]
  },
  {
   "cell_type": "code",
   "execution_count": null,
   "metadata": {},
   "outputs": [],
   "source": [
    "def add(a,b):\n",
    "    return a+b"
   ]
  },
  {
   "cell_type": "code",
   "execution_count": null,
   "metadata": {},
   "outputs": [],
   "source": [
    "x = 1\n",
    "y = 3\n",
    "\n",
    "z = add(x,y)\n",
    "\n",
    "print(z)"
   ]
  },
  {
   "cell_type": "code",
   "execution_count": null,
   "metadata": {},
   "outputs": [],
   "source": [
    "def print_hello():\n",
    "    print(\"hello world\")"
   ]
  },
  {
   "cell_type": "code",
   "execution_count": null,
   "metadata": {},
   "outputs": [],
   "source": [
    "for i in range(5):\n",
    "    print_hello()"
   ]
  },
  {
   "cell_type": "code",
   "execution_count": null,
   "metadata": {},
   "outputs": [],
   "source": [
    "def search_index(input_list, target):\n",
    "    for idx, num in enumerate(input_list):\n",
    "        if(num==target):\n",
    "            return idx\n",
    "    return -1\n",
    "            "
   ]
  },
  {
   "cell_type": "code",
   "execution_count": null,
   "metadata": {},
   "outputs": [],
   "source": [
    "# search function\n",
    "test_list = [4,3,6,47,24,65,11]\n",
    "\n",
    "print(search_index(test_list, 15))"
   ]
  },
  {
   "cell_type": "code",
   "execution_count": null,
   "metadata": {},
   "outputs": [],
   "source": [
    "def add1(input_list):\n",
    "    for idx, num in enumerate(input_list):\n",
    "        input_list[idx]=input_list[idx]+1\n",
    "    return input_list"
   ]
  },
  {
   "cell_type": "code",
   "execution_count": null,
   "metadata": {},
   "outputs": [],
   "source": [
    "test_list = [4,3,6,47,24,65,11]\n",
    "\n",
    "print(add1(test_list))"
   ]
  },
  {
   "cell_type": "code",
   "execution_count": null,
   "metadata": {},
   "outputs": [],
   "source": [
    "def new_add1(x):\n",
    "    x += 1\n",
    "    return x"
   ]
  },
  {
   "cell_type": "code",
   "execution_count": null,
   "metadata": {},
   "outputs": [],
   "source": [
    "#global variable\n",
    "x = 10\n",
    "print(x)\n",
    "\n",
    "# local variable\n",
    "x = new_add1(x)\n",
    "\n",
    "print(x)"
   ]
  },
  {
   "cell_type": "code",
   "execution_count": null,
   "metadata": {},
   "outputs": [],
   "source": [
    "date_yd = \"2021/0523\"\n",
    "print(date_yd.index(\"/\"))\n",
    "print(date_yd[4+1:])"
   ]
  },
  {
   "cell_type": "code",
   "execution_count": null,
   "metadata": {},
   "outputs": [],
   "source": [
    "date_yd = [\"2021/0523\",\"2021/0524\",\"2021/0525\",\"2021/0526\",\"2021/0527\",\"2021/0528\",\"2021/0529\"]\n",
    "date_d = []\n",
    "tmp = date_yd[0][0:date_yd[0].index(\"/\")-1]\n",
    "print(z)"
   ]
  },
  {
   "cell_type": "code",
   "execution_count": null,
   "metadata": {},
   "outputs": [],
   "source": [
    "def removeyear(date_yd):\n",
    "    for idx, num in enumerate(date_yd):\n",
    "        date_yd[idx]= date_yd[idx][date_yd[idx].index(\"/\")+1:]\n",
    "    return date_yd"
   ]
  },
  {
   "cell_type": "code",
   "execution_count": null,
   "metadata": {},
   "outputs": [],
   "source": [
    "date_yd = [\"2021/0523\",\"2021/0524\",\"2021/0525\",\"2021/0526\",\"2021/0527\",\"2021/0528\",\"2021/0529\"]\n",
    "date=removeyear(date_yd)\n",
    "print(date)"
   ]
  },
  {
   "cell_type": "markdown",
   "metadata": {},
   "source": [
    "# defalut arguments\n"
   ]
  },
  {
   "cell_type": "code",
   "execution_count": null,
   "metadata": {},
   "outputs": [],
   "source": [
    "def Add(x,y):\n",
    "    return x+y"
   ]
  },
  {
   "cell_type": "code",
   "execution_count": null,
   "metadata": {},
   "outputs": [],
   "source": [
    "x= 10\n",
    "y= 20\n",
    "\n",
    "print(Add(10,20))"
   ]
  },
  {
   "cell_type": "code",
   "execution_count": null,
   "metadata": {},
   "outputs": [],
   "source": [
    "def print_my_notebook(name,year,notebook=\"windows\"):\n",
    "    print(\"Hi, {}. Used years: {}, OS:{}\".format(name,year,notebook))"
   ]
  },
  {
   "cell_type": "code",
   "execution_count": null,
   "metadata": {},
   "outputs": [],
   "source": [
    "print_my_notebook(\"brian\",\"3\")"
   ]
  },
  {
   "cell_type": "markdown",
   "metadata": {},
   "source": [
    "# dictionary\n",
    "* list, tuple\n",
    "* (key,value)\n",
    "* dict[key] -> value\n",
    "* ex: (\"dog\",\"animal\"), (\"plane\",\"vehicle\"),(\"person\",\"animal\")"
   ]
  },
  {
   "cell_type": "code",
   "execution_count": null,
   "metadata": {},
   "outputs": [],
   "source": [
    "tmp_dict = {}\n",
    "print(type(tmp_dict))"
   ]
  },
  {
   "cell_type": "code",
   "execution_count": null,
   "metadata": {},
   "outputs": [],
   "source": [
    "tmp_dict = {\"dog\":\"animal\",\"plane\":\"vehicle\"}"
   ]
  },
  {
   "cell_type": "code",
   "execution_count": null,
   "metadata": {},
   "outputs": [],
   "source": [
    "print(tmp_dict[\"plane\"])"
   ]
  },
  {
   "cell_type": "code",
   "execution_count": null,
   "metadata": {},
   "outputs": [],
   "source": [
    "test = [\"a\",\"a\",\"a\",\"a\",\"a\",\"a\",\"a\",\"b\",\"b\",\"b\",\"b\",\"b\"]\n",
    "\n",
    "count_dict = {}\n",
    "\n",
    "for i in test:\n",
    "    count_dict.setdefault(i,0)\n",
    "    print(count_dict)\n",
    "    count_dict[i]+=1;"
   ]
  },
  {
   "cell_type": "code",
   "execution_count": null,
   "metadata": {},
   "outputs": [],
   "source": [
    "print(count_dict)"
   ]
  },
  {
   "cell_type": "code",
   "execution_count": null,
   "metadata": {},
   "outputs": [],
   "source": [
    "import numpy as np\n",
    "np.random.seed(1)\n",
    "\n",
    "test = np.random.randint(-100,100,30)"
   ]
  },
  {
   "cell_type": "code",
   "execution_count": null,
   "metadata": {
    "scrolled": true
   },
   "outputs": [],
   "source": [
    "print(test)"
   ]
  },
  {
   "cell_type": "markdown",
   "metadata": {},
   "source": [
    "design two functions\n",
    "1. dictionary [key: number, value: times]\n",
    "2. input (2numbers) -> output (2,times)\n",
    "\n",
    "(-63,40) -> (1,4)\n"
   ]
  },
  {
   "cell_type": "code",
   "execution_count": null,
   "metadata": {},
   "outputs": [],
   "source": [
    "tmp_dict = {\"dog\": [1,2,353],\"plane\":\"vehicle\"}\n",
    "print(tmp_dict)"
   ]
  },
  {
   "cell_type": "code",
   "execution_count": null,
   "metadata": {},
   "outputs": [],
   "source": [
    "tmp_dict_2 = {\"dict1\":tmp_dict}\n",
    "print(tmp_dict_2)"
   ]
  },
  {
   "cell_type": "markdown",
   "metadata": {},
   "source": [
    "# numpy\n",
    "* array, matrix"
   ]
  },
  {
   "cell_type": "code",
   "execution_count": null,
   "metadata": {},
   "outputs": [],
   "source": [
    "import numpy as np"
   ]
  },
  {
   "cell_type": "code",
   "execution_count": null,
   "metadata": {},
   "outputs": [],
   "source": [
    "test_list = [1,2,3,4,6,7]\n",
    "print(type(test_list))\n",
    "test_list = test_list*2\n",
    "print(test_list)"
   ]
  },
  {
   "cell_type": "code",
   "execution_count": null,
   "metadata": {},
   "outputs": [],
   "source": [
    "test_numpy = np.array(test_list)\n",
    "print(type(test_numpy))\n",
    "print(test_numpy)"
   ]
  },
  {
   "cell_type": "code",
   "execution_count": null,
   "metadata": {},
   "outputs": [],
   "source": [
    "test_numpy = test_numpy*2\n",
    "print(test_numpy)"
   ]
  },
  {
   "cell_type": "code",
   "execution_count": null,
   "metadata": {},
   "outputs": [],
   "source": [
    "print(test_numpy[test_numpy>=6])"
   ]
  },
  {
   "cell_type": "markdown",
   "metadata": {},
   "source": [
    "# open file"
   ]
  },
  {
   "cell_type": "code",
   "execution_count": 3,
   "metadata": {},
   "outputs": [
    {
     "name": "stdout",
     "output_type": "stream",
     "text": [
      "./data/all-states-history.csv\n"
     ]
    }
   ],
   "source": [
    "import numpy as np\n",
    "import os\n",
    "\n",
    "data_path = \"./data\"\n",
    "file_name =\"all-states-history.csv\"\n",
    "file_path = os.path.join(data_path,file_name)\n",
    "print(file_path)"
   ]
  },
  {
   "cell_type": "code",
   "execution_count": 11,
   "metadata": {},
   "outputs": [
    {
     "name": "stdout",
     "output_type": "stream",
     "text": [
      "['\"2020-01-13\"' '\"WA\"' '' '' '0' '' '' '' '' '0' '' '' '' '0' '' '' '' ''\n",
      " '' '' '' '0' '0' '' '' '' '' '' '' '' '0' '' '0' '' '' '' '' '' '0' ''\n",
      " '0']\n"
     ]
    }
   ],
   "source": [
    "data = np.loadtxt(file_path, delimiter=',',dtype= np.str,skiprows=0)\n",
    "print(data[-1])"
   ]
  },
  {
   "cell_type": "code",
   "execution_count": 14,
   "metadata": {},
   "outputs": [
    {
     "name": "stdout",
     "output_type": "stream",
     "text": [
      "['\"date\"' '\"state\"' '\"death\"' '\"deathConfirmed\"' '\"deathIncrease\"'\n",
      " '\"deathProbable\"' '\"hospitalized\"' '\"hospitalizedCumulative\"'\n",
      " '\"hospitalizedCurrently\"' '\"hospitalizedIncrease\"' '\"inIcuCumulative\"'\n",
      " '\"inIcuCurrently\"' '\"negative\"' '\"negativeIncrease\"'\n",
      " '\"negativeTestsAntibody\"' '\"negativeTestsPeopleAntibody\"'\n",
      " '\"negativeTestsViral\"' '\"onVentilatorCumulative\"'\n",
      " '\"onVentilatorCurrently\"' '\"positive\"' '\"positiveCasesViral\"'\n",
      " '\"positiveIncrease\"' '\"positiveScore\"' '\"positiveTestsAntibody\"'\n",
      " '\"positiveTestsAntigen\"' '\"positiveTestsPeopleAntibody\"'\n",
      " '\"positiveTestsPeopleAntigen\"' '\"positiveTestsViral\"' '\"recovered\"'\n",
      " '\"totalTestEncountersViral\"' '\"totalTestEncountersViralIncrease\"'\n",
      " '\"totalTestResults\"' '\"totalTestResultsIncrease\"' '\"totalTestsAntibody\"'\n",
      " '\"totalTestsAntigen\"' '\"totalTestsPeopleAntibody\"'\n",
      " '\"totalTestsPeopleAntigen\"' '\"totalTestsPeopleViral\"'\n",
      " '\"totalTestsPeopleViralIncrease\"' '\"totalTestsViral\"'\n",
      " '\"totalTestsViralIncrease\"']\n",
      "['\"2020-01-13\"' '\"WA\"' '0' '0' '0' '0' '0' '0' '0' '0' '0' '0' '0' '0' '0'\n",
      " '0' '0' '0' '0' '0' '0' '0' '0' '0' '0' '0' '0' '0' '0' '0' '0' '0' '0'\n",
      " '0' '0' '0' '0' '0' '0' '0' '0']\n"
     ]
    }
   ],
   "source": [
    "data[data==\"\"] = 0\n",
    "data_flip = np.flip(data,0)\n",
    "print(data_flip[-1])\n",
    "print(data_flip[0])\n"
   ]
  },
  {
   "cell_type": "code",
   "execution_count": 16,
   "metadata": {},
   "outputs": [
    {
     "name": "stdout",
     "output_type": "stream",
     "text": [
      "\"\n"
     ]
    }
   ],
   "source": [
    "print(data_flip[0][0][0])"
   ]
  },
  {
   "cell_type": "markdown",
   "metadata": {},
   "source": [
    "# use date to divide\n",
    "# dict[key==date] => value==dict[key==state] => value = numbers"
   ]
  },
  {
   "cell_type": "code",
   "execution_count": 36,
   "metadata": {},
   "outputs": [
    {
     "name": "stdout",
     "output_type": "stream",
     "text": [
      "[305, 0, 0, 0, 1293, 1293, 33, 0, 0, 0, 0, 0, 0, 0, 1660758, 0, 2, 56886, 0, 0, 0, 0, 0, 0, 0, 68693, 0, 0, 0, 1731628, 0, 0, 0, 0, 0, 0, 0, 1731628, 0]\n"
     ]
    },
    {
     "ename": "KeyError",
     "evalue": "'AK'",
     "output_type": "error",
     "traceback": [
      "\u001b[0;31m---------------------------------------------------------------------------\u001b[0m",
      "\u001b[0;31mKeyError\u001b[0m                                  Traceback (most recent call last)",
      "\u001b[0;32m<ipython-input-36-37106079e3ee>\u001b[0m in \u001b[0;36m<module>\u001b[0;34m\u001b[0m\n\u001b[1;32m     10\u001b[0m \u001b[0;34m\u001b[0m\u001b[0m\n\u001b[1;32m     11\u001b[0m \u001b[0mprint\u001b[0m\u001b[0;34m(\u001b[0m\u001b[0morganized_data\u001b[0m\u001b[0;34m[\u001b[0m\u001b[0;34m\"2021-03-07\"\u001b[0m\u001b[0;34m]\u001b[0m\u001b[0;34m[\u001b[0m\u001b[0;34m\"AK\"\u001b[0m\u001b[0;34m]\u001b[0m\u001b[0;34m)\u001b[0m\u001b[0;34m\u001b[0m\u001b[0;34m\u001b[0m\u001b[0m\n\u001b[0;32m---> 12\u001b[0;31m \u001b[0mprint\u001b[0m\u001b[0;34m(\u001b[0m\u001b[0morganized_data\u001b[0m\u001b[0;34m[\u001b[0m\u001b[0;34m\"AK\"\u001b[0m\u001b[0;34m]\u001b[0m\u001b[0;34m[\u001b[0m\u001b[0;34m\"2021-03-07\"\u001b[0m\u001b[0;34m]\u001b[0m\u001b[0;34m)\u001b[0m\u001b[0;34m\u001b[0m\u001b[0;34m\u001b[0m\u001b[0m\n\u001b[0m",
      "\u001b[0;31mKeyError\u001b[0m: 'AK'"
     ]
    }
   ],
   "source": [
    "organized_data = {}\n",
    "\n",
    "for row in data_flip[:-1]:\n",
    "    date = row[0][1:-1]\n",
    "    state = row[1][1:-1]\n",
    "    organized_data.setdefault(date,{})\n",
    "    organized_data[date].setdefault(state,[])\n",
    "    organized_data[date][state].extend(row[2:].astype(np.int32))\n",
    "\n",
    "\n",
    "print(organized_data[\"2021-03-07\"][\"AK\"])"
   ]
  },
  {
   "cell_type": "code",
   "execution_count": 50,
   "metadata": {},
   "outputs": [
    {
     "name": "stdout",
     "output_type": "stream",
     "text": [
      "dict_keys(['2020-01-13', '2020-01-14', '2020-01-15', '2020-01-16', '2020-01-17', '2020-01-18', '2020-01-19', '2020-01-20', '2020-01-21', '2020-01-22', '2020-01-23', '2020-01-24', '2020-01-25', '2020-01-26', '2020-01-27', '2020-01-28', '2020-01-29', '2020-01-30', '2020-01-31', '2020-02-01', '2020-02-02', '2020-02-03', '2020-02-04', '2020-02-05', '2020-02-06', '2020-02-07', '2020-02-08', '2020-02-09', '2020-02-10', '2020-02-11', '2020-02-12', '2020-02-13', '2020-02-14', '2020-02-15', '2020-02-16', '2020-02-17', '2020-02-18', '2020-02-19', '2020-02-20', '2020-02-21', '2020-02-22', '2020-02-23', '2020-02-24', '2020-02-25', '2020-02-26', '2020-02-27', '2020-02-28', '2020-02-29', '2020-03-01', '2020-03-02', '2020-03-03', '2020-03-04', '2020-03-05', '2020-03-06', '2020-03-07', '2020-03-08', '2020-03-09', '2020-03-10', '2020-03-11', '2020-03-12', '2020-03-13', '2020-03-14', '2020-03-15', '2020-03-16', '2020-03-17', '2020-03-18', '2020-03-19', '2020-03-20', '2020-03-21', '2020-03-22', '2020-03-23', '2020-03-24', '2020-03-25', '2020-03-26', '2020-03-27', '2020-03-28', '2020-03-29', '2020-03-30', '2020-03-31', '2020-04-01', '2020-04-02', '2020-04-03', '2020-04-04', '2020-04-05', '2020-04-06', '2020-04-07', '2020-04-08', '2020-04-09', '2020-04-10', '2020-04-11', '2020-04-12', '2020-04-13', '2020-04-14', '2020-04-15', '2020-04-16', '2020-04-17', '2020-04-18', '2020-04-19', '2020-04-20', '2020-04-21', '2020-04-22', '2020-04-23', '2020-04-24', '2020-04-25', '2020-04-26', '2020-04-27', '2020-04-28', '2020-04-29', '2020-04-30', '2020-05-01', '2020-05-02', '2020-05-03', '2020-05-04', '2020-05-05', '2020-05-06', '2020-05-07', '2020-05-08', '2020-05-09', '2020-05-10', '2020-05-11', '2020-05-12', '2020-05-13', '2020-05-14', '2020-05-15', '2020-05-16', '2020-05-17', '2020-05-18', '2020-05-19', '2020-05-20', '2020-05-21', '2020-05-22', '2020-05-23', '2020-05-24', '2020-05-25', '2020-05-26', '2020-05-27', '2020-05-28', '2020-05-29', '2020-05-30', '2020-05-31', '2020-06-01', '2020-06-02', '2020-06-03', '2020-06-04', '2020-06-05', '2020-06-06', '2020-06-07', '2020-06-08', '2020-06-09', '2020-06-10', '2020-06-11', '2020-06-12', '2020-06-13', '2020-06-14', '2020-06-15', '2020-06-16', '2020-06-17', '2020-06-18', '2020-06-19', '2020-06-20', '2020-06-21', '2020-06-22', '2020-06-23', '2020-06-24', '2020-06-25', '2020-06-26', '2020-06-27', '2020-06-28', '2020-06-29', '2020-06-30', '2020-07-01', '2020-07-02', '2020-07-03', '2020-07-04', '2020-07-05', '2020-07-06', '2020-07-07', '2020-07-08', '2020-07-09', '2020-07-10', '2020-07-11', '2020-07-12', '2020-07-13', '2020-07-14', '2020-07-15', '2020-07-16', '2020-07-17', '2020-07-18', '2020-07-19', '2020-07-20', '2020-07-21', '2020-07-22', '2020-07-23', '2020-07-24', '2020-07-25', '2020-07-26', '2020-07-27', '2020-07-28', '2020-07-29', '2020-07-30', '2020-07-31', '2020-08-01', '2020-08-02', '2020-08-03', '2020-08-04', '2020-08-05', '2020-08-06', '2020-08-07', '2020-08-08', '2020-08-09', '2020-08-10', '2020-08-11', '2020-08-12', '2020-08-13', '2020-08-14', '2020-08-15', '2020-08-16', '2020-08-17', '2020-08-18', '2020-08-19', '2020-08-20', '2020-08-21', '2020-08-22', '2020-08-23', '2020-08-24', '2020-08-25', '2020-08-26', '2020-08-27', '2020-08-28', '2020-08-29', '2020-08-30', '2020-08-31', '2020-09-01', '2020-09-02', '2020-09-03', '2020-09-04', '2020-09-05', '2020-09-06', '2020-09-07', '2020-09-08', '2020-09-09', '2020-09-10', '2020-09-11', '2020-09-12', '2020-09-13', '2020-09-14', '2020-09-15', '2020-09-16', '2020-09-17', '2020-09-18', '2020-09-19', '2020-09-20', '2020-09-21', '2020-09-22', '2020-09-23', '2020-09-24', '2020-09-25', '2020-09-26', '2020-09-27', '2020-09-28', '2020-09-29', '2020-09-30', '2020-10-01', '2020-10-02', '2020-10-03', '2020-10-04', '2020-10-05', '2020-10-06', '2020-10-07', '2020-10-08', '2020-10-09', '2020-10-10', '2020-10-11', '2020-10-12', '2020-10-13', '2020-10-14', '2020-10-15', '2020-10-16', '2020-10-17', '2020-10-18', '2020-10-19', '2020-10-20', '2020-10-21', '2020-10-22', '2020-10-23', '2020-10-24', '2020-10-25', '2020-10-26', '2020-10-27', '2020-10-28', '2020-10-29', '2020-10-30', '2020-10-31', '2020-11-01', '2020-11-02', '2020-11-03', '2020-11-04', '2020-11-05', '2020-11-06', '2020-11-07', '2020-11-08', '2020-11-09', '2020-11-10', '2020-11-11', '2020-11-12', '2020-11-13', '2020-11-14', '2020-11-15', '2020-11-16', '2020-11-17', '2020-11-18', '2020-11-19', '2020-11-20', '2020-11-21', '2020-11-22', '2020-11-23', '2020-11-24', '2020-11-25', '2020-11-26', '2020-11-27', '2020-11-28', '2020-11-29', '2020-11-30', '2020-12-01', '2020-12-02', '2020-12-03', '2020-12-04', '2020-12-05', '2020-12-06', '2020-12-07', '2020-12-08', '2020-12-09', '2020-12-10', '2020-12-11', '2020-12-12', '2020-12-13', '2020-12-14', '2020-12-15', '2020-12-16', '2020-12-17', '2020-12-18', '2020-12-19', '2020-12-20', '2020-12-21', '2020-12-22', '2020-12-23', '2020-12-24', '2020-12-25', '2020-12-26', '2020-12-27', '2020-12-28', '2020-12-29', '2020-12-30', '2020-12-31', '2021-01-01', '2021-01-02', '2021-01-03', '2021-01-04', '2021-01-05', '2021-01-06', '2021-01-07', '2021-01-08', '2021-01-09', '2021-01-10', '2021-01-11', '2021-01-12', '2021-01-13', '2021-01-14', '2021-01-15', '2021-01-16', '2021-01-17', '2021-01-18', '2021-01-19', '2021-01-20', '2021-01-21', '2021-01-22', '2021-01-23', '2021-01-24', '2021-01-25', '2021-01-26', '2021-01-27', '2021-01-28', '2021-01-29', '2021-01-30', '2021-01-31', '2021-02-01', '2021-02-02', '2021-02-03', '2021-02-04', '2021-02-05', '2021-02-06', '2021-02-07', '2021-02-08', '2021-02-09', '2021-02-10', '2021-02-11', '2021-02-12', '2021-02-13', '2021-02-14', '2021-02-15', '2021-02-16', '2021-02-17', '2021-02-18', '2021-02-19', '2021-02-20', '2021-02-21', '2021-02-22', '2021-02-23', '2021-02-24', '2021-02-25', '2021-02-26', '2021-02-27', '2021-02-28', '2021-03-01', '2021-03-02', '2021-03-03', '2021-03-04', '2021-03-05', '2021-03-06', '2021-03-07'])\n",
      "dict_keys(['WY', 'WV', 'WI', 'WA', 'VT', 'VI', 'VA', 'UT', 'TX', 'TN', 'SD', 'SC', 'RI', 'PR', 'PA', 'OR', 'OK', 'OH', 'NY', 'NV', 'NM', 'NJ', 'NH', 'NE', 'ND', 'NC', 'MT', 'MS', 'MP', 'MO', 'MN', 'MI', 'ME', 'MD', 'MA', 'LA', 'KY', 'KS', 'IN', 'IL', 'ID', 'IA', 'HI', 'GU', 'GA', 'FL', 'DE', 'DC', 'CT', 'CO', 'CA', 'AZ', 'AS', 'AR', 'AL', 'AK'])\n"
     ]
    }
   ],
   "source": [
    "dates = organized_data.keys()\n",
    "states = organized_data[\"2021-03-07\"].keys()\n",
    "print(dates)\n",
    "print(states)"
   ]
  },
  {
   "cell_type": "code",
   "execution_count": 76,
   "metadata": {},
   "outputs": [
    {
     "name": "stdout",
     "output_type": "stream",
     "text": [
      "[0, 0, 0, 0, 0, 0, 0, 0, 0, 0, 0, 0, 0, 0, 0, 0, 0, 0, 0, 1, 1, 1, 2, 2, 3, 3, 3, 3, 3, 5, 6, 6, 6, 7, 7, 7, 8, 8, 8, 9, 9, 9, 9, 9, 9, 9, 9, 9, 9, 9, 9, 9, 9, 9, 9, 9, 9, 9, 9, 9, 9, 10, 10, 10, 10, 10, 10, 10, 10, 10, 10, 10, 10, 10, 10, 10, 10, 10, 10, 10, 10, 10, 10, 10, 10, 10, 10, 10, 10, 10, 10, 10, 10, 10, 10, 11, 11, 11, 12, 12, 12, 12, 12, 12, 12, 12, 12, 12, 12, 12, 12, 12, 14, 14, 14, 14, 14, 14, 14, 15, 16, 16, 16, 17, 17, 17, 17, 17, 17, 17, 17, 17, 17, 17, 18, 18, 18, 18, 19, 19, 19, 20, 20, 21, 22, 22, 23, 23, 24, 24, 25, 25, 25, 25, 25, 26, 26, 26, 26, 27, 27, 27, 28, 28, 28, 29, 29, 29, 30, 31, 32, 32, 36, 37, 37, 37, 37, 37, 37, 39, 39, 40, 40, 42, 42, 42, 42, 42, 42, 43, 44, 44, 44, 44, 44, 44, 45, 45, 45, 45, 45, 45, 45, 51, 52, 56, 56, 56, 56, 57, 57, 58, 58, 58, 58, 59, 60, 60, 60, 60, 60, 60, 64, 65, 66, 67, 67, 67, 67, 68, 68, 68, 68, 68, 68, 70, 71, 77, 81, 82, 83, 84, 84, 84, 84, 84, 84, 84, 84, 92, 96, 96, 96, 98, 98, 98, 100, 100, 101, 101, 102, 103, 103, 116, 116, 119, 119, 121, 121, 121, 122, 122, 130, 142, 143, 143, 146, 146, 150, 155, 158, 176, 176, 176, 179, 181, 183, 183, 184, 184, 184, 194, 197, 199, 199, 200, 200, 200, 201, 203, 206, 206, 215, 215, 218, 218, 220, 223, 223, 224, 224, 224, 224, 226, 228, 229, 229, 229, 229, 230, 253, 254, 254, 259, 259, 259, 260, 261, 262, 262, 262, 262, 262, 279, 279, 279, 279, 279, 279, 279, 280, 280, 280, 282, 282, 282, 282, 287, 288, 288, 289, 289, 289, 290, 290, 290, 290, 290, 290, 290, 300, 302, 303, 303, 305, 305, 305]\n"
     ]
    }
   ],
   "source": [
    "Death_WithDates = {}\n",
    "\n",
    "for date_key, date_value in organized_data.items() :\n",
    "    for state_key, state_value in date_value.items():\n",
    "        Death_WithDates.setdefault(state_key,[])\n",
    "        Death_WithDates[state_key].append(state_value[0])\n",
    "\n",
    "print(Death_WithDates[\"AK\"])"
   ]
  },
  {
   "cell_type": "code",
   "execution_count": 64,
   "metadata": {},
   "outputs": [
    {
     "name": "stdout",
     "output_type": "stream",
     "text": [
      "420\n",
      "367\n",
      "420\n"
     ]
    },
    {
     "data": {
      "image/png": "[encoded data removed]",
      "text/plain": [
       "<Figure size 432x288 with 1 Axes>"
      ]
     },
     "metadata": {
      "needs_background": "light"
     },
     "output_type": "display_data"
    }
   ],
   "source": [
    "import matplotlib.pyplot as plt\n",
    "\n",
    "dates_list = []\n",
    "for i in dates:\n",
    "    dates_list.append(i)\n",
    "\n",
    "print(len(dates))\n",
    "print(len(Death_WithDates[\"AK\"]))\n",
    "\n",
    "add_zeros = np.zeros(len(dates)-len(Death_WithDates[\"AK\"]))\n",
    "Death_WithDates[\"AK\"] =  np.concatenate((add_zeros,Death_WithDates[\"AK\"]),0)\n",
    "print(len(Death_WithDates[\"AK\"]))\n",
    "\n",
    "# # for key,value in Death_WithDates.items():\n",
    "# #     print(key,len(value))\n"
   ]
  },
  {
   "cell_type": "code",
   "execution_count": 82,
   "metadata": {},
   "outputs": [
    {
     "data": {
      "image/png": "[encoded data removed]",
      "text/plain": [
       "<Figure size 432x288 with 1 Axes>"
      ]
     },
     "metadata": {
      "needs_background": "light"
     },
     "output_type": "display_data"
    }
   ],
   "source": [
    "index = 0\n",
    "for key,value in Death_WithDates.items():\n",
    "    if(index==5):\n",
    "        break\n",
    "    add_zeros = np.zeros(len(dates)-len(value))\n",
    "    value =  np.concatenate((add_zeros,value),0)\n",
    "    plt.plot(value,label=key)\n",
    "    index+=1\n",
    "    \n",
    "plt.xlabel(\"days\")\n",
    "plt.ylabel(\"deaths\")\n",
    "plt.title(\"deaths with states\")\n",
    "plt.legend()\n",
    "plt.savefig(\"./visualize_data_1.png\")\n",
    "plt.show()"
   ]
  },
  {
   "cell_type": "code",
   "execution_count": 60,
   "metadata": {},
   "outputs": [
    {
     "name": "stdout",
     "output_type": "stream",
     "text": [
      "[[[0. 0. 0. 0. 0.]\n",
      "  [0. 0. 0. 0. 0.]\n",
      "  [0. 0. 0. 0. 0.]\n",
      "  [0. 0. 0. 0. 0.]]\n",
      "\n",
      " [[0. 0. 0. 0. 0.]\n",
      "  [0. 0. 0. 0. 0.]\n",
      "  [0. 0. 0. 0. 0.]\n",
      "  [0. 0. 0. 0. 0.]]]\n"
     ]
    }
   ],
   "source": [
    "print(np.zeros((2,4,5)))"
   ]
  },
  {
   "cell_type": "code",
   "execution_count": null,
   "metadata": {},
   "outputs": [],
   "source": []
  }
 ],
 "metadata": {
  "kernelspec": {
   "display_name": "Python 3",
   "language": "python",
   "name": "python3"
  },
  "language_info": {
   "codemirror_mode": {
    "name": "ipython",
    "version": 3
   },
   "file_extension": ".py",
   "mimetype": "text/x-python",
   "name": "python",
   "nbconvert_exporter": "python",
   "pygments_lexer": "ipython3",
   "version": "3.7.6"
  }
 },
 "nbformat": 4,
 "nbformat_minor": 4
}
