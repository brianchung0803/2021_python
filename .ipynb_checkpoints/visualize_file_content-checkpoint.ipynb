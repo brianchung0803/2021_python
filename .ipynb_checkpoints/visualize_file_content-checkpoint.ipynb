{
 "cells": [
  {
   "cell_type": "markdown",
   "metadata": {},
   "source": [
    "# key components\n",
    "* <font color= #FF0000>function </font> 2021/05/23\n",
    "* dictionary\n",
    "* numpy\n",
    "* matplotlib"
   ]
  },
  {
   "cell_type": "markdown",
   "metadata": {},
   "source": [
    "# function\n",
    "* define a block of actions\n",
    "* use \"return\" to return result\n",
    "* pass in parameters"
   ]
  },
  {
   "cell_type": "markdown",
   "metadata": {},
   "source": [
    "# format\n",
    "\n",
    "<font color= #FF0000>def </font> [funtion_name] (<font color= #FF0000>parameters </font>):\n",
    "<br>&emsp;some codes ...<br/>\n",
    "<font color= #FF0000>&emsp;return ... </font>"
   ]
  },
  {
   "cell_type": "code",
   "execution_count": 2,
   "metadata": {},
   "outputs": [],
   "source": [
    "def add(a,b):\n",
    "    c = a+b\n",
    "    return c"
   ]
  },
  {
   "cell_type": "code",
   "execution_count": 6,
   "metadata": {},
   "outputs": [],
   "source": [
    "def add(a,b):\n",
    "    return a+b"
   ]
  },
  {
   "cell_type": "code",
   "execution_count": 7,
   "metadata": {},
   "outputs": [
    {
     "name": "stdout",
     "output_type": "stream",
     "text": [
      "4\n"
     ]
    }
   ],
   "source": [
    "x = 1\n",
    "y = 3\n",
    "\n",
    "z = add(x,y)\n",
    "\n",
    "print(z)"
   ]
  },
  {
   "cell_type": "code",
   "execution_count": 4,
   "metadata": {},
   "outputs": [],
   "source": [
    "def print_hello():\n",
    "    print(\"hello world\")"
   ]
  },
  {
   "cell_type": "code",
   "execution_count": 5,
   "metadata": {},
   "outputs": [
    {
     "name": "stdout",
     "output_type": "stream",
     "text": [
      "hello world\n",
      "hello world\n",
      "hello world\n",
      "hello world\n",
      "hello world\n"
     ]
    }
   ],
   "source": [
    "for i in range(5):\n",
    "    print_hello()"
   ]
  },
  {
   "cell_type": "code",
   "execution_count": 8,
   "metadata": {},
   "outputs": [],
   "source": [
    "def search_index(input_list, target):\n",
    "    for idx, num in enumerate(input_list):\n",
    "        if(num==target):\n",
    "            return idx\n",
    "    return -1\n",
    "            "
   ]
  },
  {
   "cell_type": "code",
   "execution_count": 11,
   "metadata": {},
   "outputs": [
    {
     "name": "stdout",
     "output_type": "stream",
     "text": [
      "-1\n"
     ]
    }
   ],
   "source": [
    "# search function\n",
    "test_list = [4,3,6,47,24,65,11]\n",
    "\n",
    "print(search_index(test_list, 15))"
   ]
  },
  {
   "cell_type": "code",
   "execution_count": 21,
   "metadata": {},
   "outputs": [],
   "source": [
    "def add1(input_list):\n",
    "    for idx, num in enumerate(input_list):\n",
    "        input_list[idx]=input_list[idx]+1\n",
    "    return input_list"
   ]
  },
  {
   "cell_type": "code",
   "execution_count": 22,
   "metadata": {},
   "outputs": [
    {
     "name": "stdout",
     "output_type": "stream",
     "text": [
      "[5, 4, 7, 48, 25, 66, 12]\n"
     ]
    }
   ],
   "source": [
    "test_list = [4,3,6,47,24,65,11]\n",
    "\n",
    "print(add1(test_list))"
   ]
  },
  {
   "cell_type": "code",
   "execution_count": 8,
   "metadata": {},
   "outputs": [],
   "source": [
    "def new_add1(x):\n",
    "    x += 1\n",
    "    return x"
   ]
  },
  {
   "cell_type": "code",
   "execution_count": 9,
   "metadata": {},
   "outputs": [
    {
     "name": "stdout",
     "output_type": "stream",
     "text": [
      "10\n",
      "11\n"
     ]
    }
   ],
   "source": [
    "#global variable\n",
    "x = 10\n",
    "print(x)\n",
    "\n",
    "# local variable\n",
    "x = new_add1(x)\n",
    "\n",
    "print(x)"
   ]
  },
  {
   "cell_type": "code",
   "execution_count": 18,
   "metadata": {},
   "outputs": [
    {
     "name": "stdout",
     "output_type": "stream",
     "text": [
      "4\n",
      "0523\n"
     ]
    }
   ],
   "source": [
    "date_yd = \"2021/0523\"\n",
    "print(date_yd.index(\"/\"))\n",
    "print(date_yd[4+1:])"
   ]
  },
  {
   "cell_type": "code",
   "execution_count": 23,
   "metadata": {},
   "outputs": [
    {
     "name": "stdout",
     "output_type": "stream",
     "text": [
      "2021\n"
     ]
    }
   ],
   "source": [
    "date_yd = [\"2021/0523\",\"2021/0524\",\"2021/0525\",\"2021/0526\",\"2021/0527\",\"2021/0528\",\"2021/0529\"]\n",
    "date_d = []\n",
    "tmp = date_yd[0][0:date_yd[0].index(\"/\")-1]\n",
    "print(z)"
   ]
  },
  {
   "cell_type": "code",
   "execution_count": 26,
   "metadata": {},
   "outputs": [],
   "source": [
    "def removeyear(date_yd):\n",
    "    for idx, num in enumerate(date_yd):\n",
    "        date_yd[idx]= date_yd[idx][date_yd[idx].index(\"/\")+1:]\n",
    "    return date_yd"
   ]
  },
  {
   "cell_type": "code",
   "execution_count": 27,
   "metadata": {},
   "outputs": [
    {
     "name": "stdout",
     "output_type": "stream",
     "text": [
      "['0523', '0524', '0525', '0526', '0527', '0528', '0529']\n"
     ]
    }
   ],
   "source": [
    "date_yd = [\"2021/0523\",\"2021/0524\",\"2021/0525\",\"2021/0526\",\"2021/0527\",\"2021/0528\",\"2021/0529\"]\n",
    "date=removeyear(date_yd)\n",
    "print(date)"
   ]
  },
  {
   "cell_type": "markdown",
   "metadata": {},
   "source": [
    "# defalut arguments\n"
   ]
  },
  {
   "cell_type": "code",
   "execution_count": 1,
   "metadata": {},
   "outputs": [],
   "source": [
    "def Add(x,y):\n",
    "    return x+y"
   ]
  },
  {
   "cell_type": "code",
   "execution_count": 3,
   "metadata": {},
   "outputs": [
    {
     "name": "stdout",
     "output_type": "stream",
     "text": [
      "30\n"
     ]
    }
   ],
   "source": [
    "x= 10\n",
    "y= 20\n",
    "\n",
    "print(Add(10,20))"
   ]
  },
  {
   "cell_type": "code",
   "execution_count": 7,
   "metadata": {},
   "outputs": [
    {
     "ename": "SyntaxError",
     "evalue": "non-default argument follows default argument (<ipython-input-7-04ba43a5b382>, line 1)",
     "output_type": "error",
     "traceback": [
      "\u001b[0;36m  File \u001b[0;32m\"<ipython-input-7-04ba43a5b382>\"\u001b[0;36m, line \u001b[0;32m1\u001b[0m\n\u001b[0;31m    def print_my_notebook(name,notebook=\"windows\",year):\u001b[0m\n\u001b[0m                         ^\u001b[0m\n\u001b[0;31mSyntaxError\u001b[0m\u001b[0;31m:\u001b[0m non-default argument follows default argument\n"
     ]
    }
   ],
   "source": [
    "def print_my_notebook(name,year,notebook=\"windows\"):\n",
    "    print(\"Hi, {}. Used years: {}, OS:{}\".format(name,year,notebook))"
   ]
  },
  {
   "cell_type": "code",
   "execution_count": 6,
   "metadata": {},
   "outputs": [
    {
     "name": "stdout",
     "output_type": "stream",
     "text": [
      "Hi, brian. Used years: 3, OS:MAC\n"
     ]
    }
   ],
   "source": [
    "print_my_notebook(\"brian\",\"3\")"
   ]
  },
  {
   "cell_type": "markdown",
   "metadata": {},
   "source": [
    "# dictionary\n",
    "* list, tuple\n",
    "* (key,value)\n",
    "* dict[key] -> value\n",
    "* ex: (\"dog\",\"animal\"), (\"plane\",\"vehicle\"),(\"person\",\"animal\")"
   ]
  },
  {
   "cell_type": "code",
   "execution_count": 12,
   "metadata": {},
   "outputs": [
    {
     "name": "stdout",
     "output_type": "stream",
     "text": [
      "<class 'dict'>\n"
     ]
    }
   ],
   "source": [
    "tmp_dict = {}\n",
    "print(type(tmp_dict))"
   ]
  },
  {
   "cell_type": "code",
   "execution_count": 13,
   "metadata": {},
   "outputs": [],
   "source": [
    "tmp_dict = {\"dog\":\"animal\",\"plane\":\"vehicle\"}"
   ]
  },
  {
   "cell_type": "code",
   "execution_count": 15,
   "metadata": {},
   "outputs": [
    {
     "name": "stdout",
     "output_type": "stream",
     "text": [
      "vehicle\n"
     ]
    }
   ],
   "source": [
    "print(tmp_dict[\"plane\"])"
   ]
  },
  {
   "cell_type": "code",
   "execution_count": 25,
   "metadata": {},
   "outputs": [
    {
     "name": "stdout",
     "output_type": "stream",
     "text": [
      "{'a': 0}\n",
      "{'a': 1}\n",
      "{'a': 2}\n",
      "{'a': 3}\n",
      "{'a': 4}\n",
      "{'a': 5}\n",
      "{'a': 6}\n",
      "{'a': 7, 'b': 0}\n",
      "{'a': 7, 'b': 1}\n",
      "{'a': 7, 'b': 2}\n",
      "{'a': 7, 'b': 3}\n",
      "{'a': 7, 'b': 4}\n"
     ]
    }
   ],
   "source": [
    "test = [\"a\",\"a\",\"a\",\"a\",\"a\",\"a\",\"a\",\"b\",\"b\",\"b\",\"b\",\"b\"]\n",
    "\n",
    "count_dict = {}\n",
    "\n",
    "for i in test:\n",
    "    count_dict.setdefault(i,0)\n",
    "    print(count_dict)\n",
    "    count_dict[i]+=1;"
   ]
  },
  {
   "cell_type": "code",
   "execution_count": 24,
   "metadata": {},
   "outputs": [
    {
     "name": "stdout",
     "output_type": "stream",
     "text": [
      "{'a': 7, 'b': 5}\n"
     ]
    }
   ],
   "source": [
    "print(count_dict)"
   ]
  },
  {
   "cell_type": "code",
   "execution_count": 28,
   "metadata": {},
   "outputs": [],
   "source": [
    "import numpy as np\n",
    "np.random.seed(1)\n",
    "\n",
    "test = np.random.randint(-100,100,30)"
   ]
  },
  {
   "cell_type": "code",
   "execution_count": 30,
   "metadata": {
    "scrolled": true
   },
   "outputs": [
    {
     "name": "stdout",
     "output_type": "stream",
     "text": [
      "[-63  40 -28  37  33 -21  92  44  29 -29  34 -75  78 -80   1  46  39  56\n",
      "  57  42 -50 -32  -4 -14  41  37 -93 -37 -39 -78 -43 -99  28 -40 -92  41\n",
      "  15  75  21 -70 -29  31  98  49 -51 -43 -97  96 -76 -57 -24 -74 -48 -20\n",
      "   9  15 -59 -85 -36  96 -75  11  35 -74  53   4 -78 -91  95  26 -77  25\n",
      "   0  55  65 -43 -17  66  36 -68  62 -90 -77  43 -13 -75  99  -8 -26  90\n",
      " -54  60  51  83 -35  13 -23 -97  28 -94]\n"
     ]
    }
   ],
   "source": [
    "print(test)"
   ]
  },
  {
   "cell_type": "markdown",
   "metadata": {},
   "source": [
    "design two functions\n",
    "1. dictionary [key: number, value: times]\n",
    "2. input (2numbers) -> output (2,times)\n",
    "\n",
    "(-63,40) -> (1,4)\n"
   ]
  },
  {
   "cell_type": "code",
   "execution_count": 31,
   "metadata": {},
   "outputs": [
    {
     "name": "stdout",
     "output_type": "stream",
     "text": [
      "{'dog': [1, 2, 353], 'plane': 'vehicle'}\n"
     ]
    }
   ],
   "source": [
    "tmp_dict = {\"dog\": [1,2,353],\"plane\":\"vehicle\"}\n",
    "print(tmp_dict)"
   ]
  },
  {
   "cell_type": "code",
   "execution_count": 32,
   "metadata": {},
   "outputs": [
    {
     "name": "stdout",
     "output_type": "stream",
     "text": [
      "{'dict1': {'dog': [1, 2, 353], 'plane': 'vehicle'}}\n"
     ]
    }
   ],
   "source": [
    "tmp_dict_2 = {\"dict1\":tmp_dict}\n",
    "print(tmp_dict_2)"
   ]
  },
  {
   "cell_type": "markdown",
   "metadata": {},
   "source": [
    "# numpy\n",
    "* array, matrix"
   ]
  },
  {
   "cell_type": "code",
   "execution_count": null,
   "metadata": {},
   "outputs": [],
   "source": [
    "import numpy as np"
   ]
  },
  {
   "cell_type": "code",
   "execution_count": 38,
   "metadata": {},
   "outputs": [
    {
     "name": "stdout",
     "output_type": "stream",
     "text": [
      "<class 'list'>\n",
      "[1, 2, 3, 4, 6, 7, 1, 2, 3, 4, 6, 7]\n"
     ]
    }
   ],
   "source": [
    "test_list = [1,2,3,4,6,7]\n",
    "print(type(test_list))\n",
    "test_list = test_list*2\n",
    "print(test_list)"
   ]
  },
  {
   "cell_type": "code",
   "execution_count": 35,
   "metadata": {},
   "outputs": [
    {
     "name": "stdout",
     "output_type": "stream",
     "text": [
      "<class 'numpy.ndarray'>\n",
      "[1 2 3 4 6 7]\n"
     ]
    }
   ],
   "source": [
    "test_numpy = np.array(test_list)\n",
    "print(type(test_numpy))\n",
    "print(test_numpy)"
   ]
  },
  {
   "cell_type": "code",
   "execution_count": 36,
   "metadata": {},
   "outputs": [
    {
     "name": "stdout",
     "output_type": "stream",
     "text": [
      "[ 2  4  6  8 12 14]\n"
     ]
    }
   ],
   "source": [
    "test_numpy = test_numpy*2\n",
    "print(test_numpy)"
   ]
  },
  {
   "cell_type": "code",
   "execution_count": 40,
   "metadata": {},
   "outputs": [
    {
     "name": "stdout",
     "output_type": "stream",
     "text": [
      "[ 6  8 12 14]\n"
     ]
    }
   ],
   "source": [
    "print(test_numpy[test_numpy>=6])"
   ]
  },
  {
   "cell_type": "markdown",
   "metadata": {},
   "source": [
    "# open file"
   ]
  },
  {
   "cell_type": "code",
   "execution_count": 41,
   "metadata": {},
   "outputs": [
    {
     "name": "stdout",
     "output_type": "stream",
     "text": [
      "./data/all-states-history.csv\n"
     ]
    }
   ],
   "source": [
    "import numpy as np\n",
    "import os\n",
    "\n",
    "data_path = \"./data/\"\n",
    "file_name =\"all-states-history.csv\"\n",
    "file_path = os.path.join(data_path,file_name)\n",
    "print(file_path)"
   ]
  },
  {
   "cell_type": "code",
   "execution_count": 64,
   "metadata": {},
   "outputs": [
    {
     "name": "stdout",
     "output_type": "stream",
     "text": [
      "['\"date\"' '\"state\"' '\"death\"' '\"deathConfirmed\"' '\"deathIncrease\"'\n",
      " '\"deathProbable\"' '\"hospitalized\"' '\"hospitalizedCumulative\"'\n",
      " '\"hospitalizedCurrently\"' '\"hospitalizedIncrease\"' '\"inIcuCumulative\"'\n",
      " '\"inIcuCurrently\"' '\"negative\"' '\"negativeIncrease\"'\n",
      " '\"negativeTestsAntibody\"' '\"negativeTestsPeopleAntibody\"'\n",
      " '\"negativeTestsViral\"' '\"onVentilatorCumulative\"'\n",
      " '\"onVentilatorCurrently\"' '\"positive\"' '\"positiveCasesViral\"'\n",
      " '\"positiveIncrease\"' '\"positiveScore\"' '\"positiveTestsAntibody\"'\n",
      " '\"positiveTestsAntigen\"' '\"positiveTestsPeopleAntibody\"'\n",
      " '\"positiveTestsPeopleAntigen\"' '\"positiveTestsViral\"' '\"recovered\"'\n",
      " '\"totalTestEncountersViral\"' '\"totalTestEncountersViralIncrease\"'\n",
      " '\"totalTestResults\"' '\"totalTestResultsIncrease\"' '\"totalTestsAntibody\"'\n",
      " '\"totalTestsAntigen\"' '\"totalTestsPeopleAntibody\"'\n",
      " '\"totalTestsPeopleAntigen\"' '\"totalTestsPeopleViral\"'\n",
      " '\"totalTestsPeopleViralIncrease\"' '\"totalTestsViral\"'\n",
      " '\"totalTestsViralIncrease\"']\n"
     ]
    }
   ],
   "source": [
    "data = np.loadtxt(file_path, delimiter=',',dtype= np.str)\n",
    "print(data[0])"
   ]
  },
  {
   "cell_type": "markdown",
   "metadata": {},
   "source": [
    "# use date to divide"
   ]
  },
  {
   "cell_type": "code",
   "execution_count": 62,
   "metadata": {},
   "outputs": [
    {
     "name": "stdout",
     "output_type": "stream",
     "text": [
      "\"\n",
      "\"\n",
      "{'\"AK\"': [305, 0, 0, 0, 1293, 1293, 33, 0, 0, 0, 0, 0, 0, 0, 1660758, 0, 2, 56886, 0, 0, 0, 0, 0, 0, 0, 68693, 0, 0, 0, 1731628, 0, 0, 0, 0, 0, 0, 0, 1731628, 0], '\"AL\"': [10148, 7963, -1, 2185, 45976, 45976, 494, 0, 2676, 0, 1931711, 2087, 0, 0, 0, 1515, 0, 499819, 392077, 408, 0, 0, 0, 0, 0, 0, 295690, 0, 0, 2323788, 2347, 0, 0, 119757, 0, 2323788, 2347, 0, 0]}\n",
      "\"2021-03-07\"\n",
      "\"AK\"\n",
      "\"AL\"\n"
     ]
    }
   ],
   "source": [
    "organized_data = {}\n",
    "data[data==\"\"] = 0\n",
    "\n",
    "for row in data[1:3]:\n",
    "    organized_data.setdefault(row[0][1:-1],{})\n",
    "    organized_data[row[0]].setdefault(row[1][1:-1],[])\n",
    "    organized_data[row[0]][row[1]].extend(row[2:].astype(np.int32))\n",
    "\n",
    "print(organized_data['\"2021-03-07\"'])\n",
    "for key,value in organized_data.items():\n",
    "    print(key)\n",
    "    for state, numbers in organized_data[key].items():\n",
    "        print(state)\n",
    "#         print(organized_data[key][\"AK\"])"
   ]
  },
  {
   "cell_type": "code",
   "execution_count": null,
   "metadata": {},
   "outputs": [],
   "source": []
  }
 ],
 "metadata": {
  "kernelspec": {
   "display_name": "Python 3",
   "language": "python",
   "name": "python3"
  },
  "language_info": {
   "codemirror_mode": {
    "name": "ipython",
    "version": 3
   },
   "file_extension": ".py",
   "mimetype": "text/x-python",
   "name": "python",
   "nbconvert_exporter": "python",
   "pygments_lexer": "ipython3",
   "version": "3.7.6"
  }
 },
 "nbformat": 4,
 "nbformat_minor": 4
}
