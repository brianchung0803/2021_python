{
 "cells": [
  {
   "cell_type": "code",
   "execution_count": 47,
   "metadata": {},
   "outputs": [],
   "source": [
    "#這裏不要改\n",
    "import numpy as np\n",
    "import time\n",
    "np.random.seed(20210511)\n",
    "test_list = np.random.randint(-10000,100000,50000)"
   ]
  },
  {
   "cell_type": "code",
   "execution_count": 48,
   "metadata": {},
   "outputs": [
    {
     "name": "stdout",
     "output_type": "stream",
     "text": [
      "44961\n",
      "time spent of using for loop to find: 0.019 s\n"
     ]
    }
   ],
   "source": [
    "#第一題：\n",
    "#請用for迴圈找到整數 13304 是否有在test_list，若是有,請告訴我是第幾個index\n",
    "\n",
    "target = 13304\n",
    "start = time.time()\n",
    "\n",
    "#將code寫在下面範圍內\n",
    "########################################\n",
    "\n",
    "for idx,num in enumerate(test_list):\n",
    "    if(num==target):\n",
    "        print(idx)\n",
    "        break\n",
    "\n",
    "########################################\n",
    "end = time.time()\n",
    "\n",
    "print(\"time spent of using for loop to find: {:05.2} s\".format(end-start) )"
   ]
  },
  {
   "cell_type": "code",
   "execution_count": 49,
   "metadata": {},
   "outputs": [
    {
     "name": "stdout",
     "output_type": "stream",
     "text": [
      "44961\n",
      "time spent of using while loop to find: 0.024 s\n"
     ]
    }
   ],
   "source": [
    "#第二題：\n",
    "#請用while迴圈找到整數 13304 是否有在test_list，若是有,請告訴我是第幾個index\n",
    "\n",
    "target = 13304\n",
    "start = time.time()\n",
    "\n",
    "#將code寫在下面範圍內\n",
    "########################################\n",
    "l = len(test_list)\n",
    "i = 0\n",
    "while(i<l):\n",
    "    if(test_list[i]==target):\n",
    "        print(i)\n",
    "        break\n",
    "    i+=1\n",
    "\n",
    "########################################\n",
    "end = time.time()\n",
    "\n",
    "print(\"time spent of using while loop to find: {:05.2} s\".format(end-start) )"
   ]
  },
  {
   "cell_type": "code",
   "execution_count": 59,
   "metadata": {},
   "outputs": [
    {
     "name": "stdout",
     "output_type": "stream",
     "text": [
      "10600\n",
      "time spent of using while loop to find: 0.00028 s\n"
     ]
    }
   ],
   "source": [
    "#第三題：\n",
    "#請用binary search找到整數 13304 是否有在sorted_list，若是有,請告訴我是第幾個index\n",
    "\n",
    "sorted_list = np.sort(test_list)\n",
    "\n",
    "target = 13304\n",
    "start = time.time()\n",
    "\n",
    "#將code寫在下面範圍內\n",
    "########################################\n",
    "left = 0\n",
    "right = len(sorted_list)\n",
    "\n",
    "while(right != left):\n",
    "    \n",
    "    mid = int((left+right)/2)\n",
    "    if(sorted_list[mid]>target):\n",
    "        right = mid\n",
    "    elif(sorted_list[mid]<target):\n",
    "        left = mid\n",
    "    else:\n",
    "        print(mid)\n",
    "        break\n",
    "\n",
    "########################################\n",
    "end = time.time()\n",
    "\n",
    "print(\"time spent of using while loop to find: {:05.2} s\".format(end-start) )"
   ]
  },
  {
   "cell_type": "code",
   "execution_count": null,
   "metadata": {},
   "outputs": [],
   "source": []
  }
 ],
 "metadata": {
  "kernelspec": {
   "display_name": "Python 3",
   "language": "python",
   "name": "python3"
  },
  "language_info": {
   "codemirror_mode": {
    "name": "ipython",
    "version": 3
   },
   "file_extension": ".py",
   "mimetype": "text/x-python",
   "name": "python",
   "nbconvert_exporter": "python",
   "pygments_lexer": "ipython3",
   "version": "3.7.6"
  }
 },
 "nbformat": 4,
 "nbformat_minor": 4
}
