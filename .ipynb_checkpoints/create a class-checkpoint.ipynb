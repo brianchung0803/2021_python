{
 "cells": [
  {
   "cell_type": "markdown",
   "metadata": {},
   "source": [
    "# easy numpy\n",
    "* only one dimension array\n",
    "* https://www.geeksforgeeks.org/operator-overloading-in-python/"
   ]
  },
  {
   "cell_type": "code",
   "execution_count": 6,
   "metadata": {},
   "outputs": [],
   "source": [
    "class character():  #()可有，也可以沒有\n",
    "    def __init__(self,name,sex,language):\n",
    "        self.NAME = name\n",
    "        self.SEX = sex\n",
    "        self.L = language\n",
    "        print(\"this is {}'s character\".format(self.NAME))\n",
    "    "
   ]
  },
  {
   "cell_type": "code",
   "execution_count": 7,
   "metadata": {},
   "outputs": [
    {
     "name": "stdout",
     "output_type": "stream",
     "text": [
      "this is Garen's character\n"
     ]
    }
   ],
   "source": [
    "Lux = character(\"Garen\", \"M\", \"English\")"
   ]
  },
  {
   "cell_type": "code",
   "execution_count": 77,
   "metadata": {},
   "outputs": [],
   "source": [
    "class My_numpy():\n",
    "    def __init__(self, new_array):      #  constructor:  give a new array(list)\n",
    "        self.array = new_array\n",
    "        self.shape = len(self.array)\n",
    "    \n",
    "    def __getitem__(self, key):\n",
    "        return self.array[key]\n",
    "        \n",
    "    def __add__(self, number):\n",
    "        if(number.__class__.__name__==\"int\" or number.__class__.__name__==\"float\"):\n",
    "            new_array = self.array\n",
    "            for i in range(self.shape):\n",
    "                new_array[i] += number\n",
    "                \n",
    "            return My_numpy(new_array)\n",
    "        \n",
    "        elif(number.__class__.__name__==\"My_numpy\"):\n",
    "            new_array = self.array\n",
    "            if(self.shape==number.shape):\n",
    "                for i in range(self.shape):\n",
    "                    new_array[i] += number[i]\n",
    "                    \n",
    "                return My_numpy(new_array)\n",
    "            else:\n",
    "                print(\"shape mismatch\")\n",
    "                \n",
    "    def add_one_element(self,i):\n",
    "        self.array.append(i)\n",
    "        self.shape += 1\n",
    "        return self.array\n",
    "    \n",
    "    def delete_one_element(self):\n",
    "        self.array.pop()\n",
    "        self.shape -= 1\n",
    "        return self.array\n",
    "        "
   ]
  },
  {
   "cell_type": "code",
   "execution_count": 8,
   "metadata": {},
   "outputs": [
    {
     "ename": "NameError",
     "evalue": "name 'My_numpy' is not defined",
     "output_type": "error",
     "traceback": [
      "\u001b[1;31m---------------------------------------------------------------------------\u001b[0m",
      "\u001b[1;31mNameError\u001b[0m                                 Traceback (most recent call last)",
      "\u001b[1;32m<ipython-input-8-d58293648585>\u001b[0m in \u001b[0;36m<module>\u001b[1;34m\u001b[0m\n\u001b[0;32m      3\u001b[0m \u001b[1;33m\u001b[0m\u001b[0m\n\u001b[0;32m      4\u001b[0m \u001b[1;33m\u001b[0m\u001b[0m\n\u001b[1;32m----> 5\u001b[1;33m \u001b[0mMN_1\u001b[0m \u001b[1;33m=\u001b[0m \u001b[0mMy_numpy\u001b[0m\u001b[1;33m(\u001b[0m\u001b[0mtmp\u001b[0m\u001b[1;33m)\u001b[0m\u001b[1;33m\u001b[0m\u001b[1;33m\u001b[0m\u001b[0m\n\u001b[0m\u001b[0;32m      6\u001b[0m \u001b[0mMN_2\u001b[0m \u001b[1;33m=\u001b[0m \u001b[0mMy_numpy\u001b[0m\u001b[1;33m(\u001b[0m\u001b[0mtmp1\u001b[0m\u001b[1;33m)\u001b[0m\u001b[1;33m\u001b[0m\u001b[1;33m\u001b[0m\u001b[0m\n\u001b[0;32m      7\u001b[0m \u001b[1;33m\u001b[0m\u001b[0m\n",
      "\u001b[1;31mNameError\u001b[0m: name 'My_numpy' is not defined"
     ]
    }
   ],
   "source": [
    "tmp = [1,2,3,4,5]\n",
    "tmp1 = [2,3,4,5,6]\n",
    "\n",
    "\n",
    "MN_1 = My_numpy(tmp)\n",
    "MN_2 = My_numpy(tmp1)\n",
    "\n",
    "# print(MN_1.__class__.__name__)\n",
    "test = MN_1+MN_2\n",
    "\n",
    "test.add_one_element(5)"
   ]
  },
  {
   "cell_type": "code",
   "execution_count": null,
   "metadata": {},
   "outputs": [],
   "source": []
  },
  {
   "cell_type": "code",
   "execution_count": null,
   "metadata": {},
   "outputs": [],
   "source": [
    "class Devices(characater):\n",
    "    "
   ]
  }
 ],
 "metadata": {
  "kernelspec": {
   "display_name": "Python 3",
   "language": "python",
   "name": "python3"
  },
  "language_info": {
   "codemirror_mode": {
    "name": "ipython",
    "version": 3
   },
   "file_extension": ".py",
   "mimetype": "text/x-python",
   "name": "python",
   "nbconvert_exporter": "python",
   "pygments_lexer": "ipython3",
   "version": "3.8.5"
  }
 },
 "nbformat": 4,
 "nbformat_minor": 4
}
