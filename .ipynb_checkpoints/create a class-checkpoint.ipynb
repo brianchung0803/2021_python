{
 "cells": [
  {
   "cell_type": "markdown",
   "metadata": {},
   "source": [
    "# easy numpy\n",
    "* only one dimension array\n",
    "* https://www.geeksforgeeks.org/operator-overloading-in-python/"
   ]
  },
  {
   "cell_type": "code",
   "execution_count": 77,
   "metadata": {},
   "outputs": [],
   "source": [
    "class My_numpy():\n",
    "    def __init__(self, new_array):\n",
    "        self.array = new_array\n",
    "        self.shape = len(self.array)\n",
    "    \n",
    "    def __getitem__(self, key):\n",
    "        return self.array[key]\n",
    "        \n",
    "    def __add__(self, number):\n",
    "        if(number.__class__.__name__==\"int\" or number.__class__.__name__==\"float\"):\n",
    "            new_array = self.array\n",
    "            for i in range(self.shape):\n",
    "                new_array[i] += number\n",
    "                \n",
    "            return My_numpy(new_array)\n",
    "        \n",
    "        elif(number.__class__.__name__==\"My_numpy\"):\n",
    "            new_array = self.array\n",
    "            if(self.shape==number.shape):\n",
    "                for i in range(self.shape):\n",
    "                    new_array[i] += number[i]\n",
    "                    \n",
    "                return My_numpy(new_array)\n",
    "            else:\n",
    "                print(\"shape mismatch\")\n",
    "                \n",
    "    def add_one_element(self,i):\n",
    "        self.array.append(i)\n",
    "        self.shape += 1\n",
    "        return self.array\n",
    "    \n",
    "    def delete_one_element(self):\n",
    "        self.array.pop()\n",
    "        self.shape -= 1\n",
    "        return self.array\n",
    "        "
   ]
  },
  {
   "cell_type": "code",
   "execution_count": 87,
   "metadata": {},
   "outputs": [
    {
     "data": {
      "text/plain": [
       "[3, 5, 7, 9, 11, 5]"
      ]
     },
     "execution_count": 87,
     "metadata": {},
     "output_type": "execute_result"
    }
   ],
   "source": [
    "tmp = [1,2,3,4,5]\n",
    "tmp1 = [2,3,4,5,6]\n",
    "\n",
    "\n",
    "MN_1 = My_numpy(tmp)\n",
    "MN_2 = My_numpy(tmp1)\n",
    "\n",
    "# print(MN_1.__class__.__name__)\n",
    "test = MN_1+MN_2\n",
    "\n",
    "test.add_one_element(5)"
   ]
  },
  {
   "cell_type": "code",
   "execution_count": null,
   "metadata": {},
   "outputs": [],
   "source": []
  }
 ],
 "metadata": {
  "kernelspec": {
   "display_name": "Python 3",
   "language": "python",
   "name": "python3"
  },
  "language_info": {
   "codemirror_mode": {
    "name": "ipython",
    "version": 3
   },
   "file_extension": ".py",
   "mimetype": "text/x-python",
   "name": "python",
   "nbconvert_exporter": "python",
   "pygments_lexer": "ipython3",
   "version": "3.7.6"
  }
 },
 "nbformat": 4,
 "nbformat_minor": 4
}
