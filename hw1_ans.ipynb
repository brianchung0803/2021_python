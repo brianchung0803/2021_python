{
 "cells": [
  {
   "cell_type": "code",
   "execution_count": 9,
   "metadata": {},
   "outputs": [],
   "source": [
    "#這裏不要改\n",
    "import numpy as np\n",
    "import time\n",
    "np.random.seed(20210511)\n",
    "test_list = np.sort(np.random.randint(-10000,100000,50000))"
   ]
  },
  {
   "cell_type": "code",
   "execution_count": 61,
   "metadata": {},
   "outputs": [
    {
     "name": "stdout",
     "output_type": "stream",
     "text": [
      "10600\n",
      "time spent of using for loop to find: 0.0045 s\n"
     ]
    }
   ],
   "source": [
    "#第一題：\n",
    "#請用for迴圈找到整數 13304 是否有在test_list，若是有,請告訴我是第幾個index\n",
    "\n",
    "target = 13304\n",
    "start = time.time()\n",
    "\n",
    "index  = 49999\n",
    "#將code寫在下面範圍內\n",
    "########################################\n",
    "\n",
    "test = [10,9,8,7,6,5]\n",
    "\n",
    "for idx,num in enumerate(test):\n",
    "    #idx = 499999\n",
    "    if(num==target):\n",
    "        print(idx)\n",
    "        break\n",
    "    if(idx==len(test)-1):\n",
    "        print(\"doesn't exist\")\n",
    "    \n",
    "\n",
    "########################################\n",
    "end = time.time()\n",
    "\n",
    "print(\"time spent of using for loop to find: {:05.2} s\".format(end-start) )"
   ]
  },
  {
   "cell_type": "code",
   "execution_count": 8,
   "metadata": {},
   "outputs": [
    {
     "name": "stdout",
     "output_type": "stream",
     "text": [
      "index: 0 , number: 10\n",
      "index: 1 , number: 9\n",
      "index: 2 , number: 8\n",
      "index: 3 , number: 7\n",
      "index: 4 , number: 6\n",
      "index: 5 , number: 5\n"
     ]
    }
   ],
   "source": [
    "test = [10,9,8,7,6,5]\n",
    "\n",
    "# for i in test:\n",
    "#     print(i)\n",
    "# for i in range(len(test)):\n",
    "#     print(i)\n",
    "\n",
    "for idx,num in enumerate(test):\n",
    "    print(\"index:\",idx,\", number:\",num)"
   ]
  },
  {
   "cell_type": "code",
   "execution_count": 10,
   "metadata": {},
   "outputs": [
    {
     "name": "stdout",
     "output_type": "stream",
     "text": [
      "50000\n"
     ]
    }
   ],
   "source": [
    "#第二題：\n",
    "#請用while迴圈找到整數 13304 是否有在test_list，若是有,請告訴我是第幾個index\n",
    "\n",
    "target = 100001\n",
    "start = time.time()\n",
    "\n",
    "#將code寫在下面範圍內\n",
    "########################################\n",
    "l = len(test_list)\n",
    "# i max = 49999\n",
    "i = 0\n",
    "flag = False\n",
    "while(i<l):\n",
    "    if(test_list[i]==target):\n",
    "#         print(i)\n",
    "        flag = True\n",
    "        break\n",
    "    i+=1\n",
    "if(flag==False):\n",
    "    print(\"the number doesn't exist\")\n",
    "########################################\n",
    "end = time.time()\n",
    "\n",
    "print(\"time spent of using while loop to find: {:05.2} s\".format(end-start) )"
   ]
  },
  {
   "cell_type": "code",
   "execution_count": 15,
   "metadata": {},
   "outputs": [
    {
     "name": "stdout",
     "output_type": "stream",
     "text": [
      "4\n"
     ]
    }
   ],
   "source": [
    "#第三題：\n",
    "#請用binary search找到整數 13304 是否有在sorted_list，若是有,請告訴我是第幾個index\n",
    "\n",
    "# sorted_list = np.sort(test_list)\n",
    "\n",
    "target = 4\n",
    "start = time.time()\n",
    "\n",
    "#將code寫在下面範圍內\n",
    "########################################\n",
    "\n",
    "sorted_list = [0,1,2,3,4,5]\n",
    "left = 0\n",
    "right = len(sorted_list)\n",
    "\n",
    "\n",
    "\n",
    "while(right != left+1):\n",
    "    \n",
    "    mid = int((left+right)/2)\n",
    "    if(sorted_list[mid]>target):\n",
    "        right = mid\n",
    "    elif(sorted_list[mid]<target):\n",
    "        left = mid\n",
    "    else:\n",
    "        print(mid)\n",
    "        break\n",
    "if(right==left+1):\n",
    "    print(\"not found\")\n",
    "\n",
    "# ########################################\n",
    "# end = time.time()\n",
    "\n",
    "# print(\"time spent of using while loop to find: {:05.2} s\".format(end-start) )"
   ]
  },
  {
   "cell_type": "code",
   "execution_count": null,
   "metadata": {},
   "outputs": [],
   "source": []
  }
 ],
 "metadata": {
  "kernelspec": {
   "display_name": "Python 3",
   "language": "python",
   "name": "python3"
  },
  "language_info": {
   "codemirror_mode": {
    "name": "ipython",
    "version": 3
   },
   "file_extension": ".py",
   "mimetype": "text/x-python",
   "name": "python",
   "nbconvert_exporter": "python",
   "pygments_lexer": "ipython3",
   "version": "3.7.6"
  }
 },
 "nbformat": 4,
 "nbformat_minor": 4
}
